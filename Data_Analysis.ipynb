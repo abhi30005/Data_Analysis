{
 "cells": [
  {
   "cell_type": "markdown",
   "id": "6517c794-c6a4-4a03-afad-c53c5b4602df",
   "metadata": {},
   "source": [
    "# Data Analysis Projest Life Cycle\n",
    "- **Business Problem Understanding**\n",
    "- **Data Collection**\n",
    "- **Data Pre-processing**\n",
    "- **Exploratory Data Analysis**\n",
    "- **Reporting**"
   ]
  },
  {
   "cell_type": "markdown",
   "id": "2ff2f8c8-ffd0-46fb-b216-a8261da0cbeb",
   "metadata": {},
   "source": [
    "## Business Problem\n",
    "**Client wants us to analyze diwali sales data in order to understand the trend, insights, top performing products, categories, zones so that they can prepare better to improve sales**"
   ]
  },
  {
   "cell_type": "markdown",
   "id": "e86b2567-5fa3-4d6c-b3e1-fb371c73732e",
   "metadata": {},
   "source": [
    "## Data Collection\n",
    "- Client has provided historial data in csv file\n",
    "- Link: https://drive.google.com/file/d/1mGY1doT8RRTgIS0eZsiexHOjUIel9pvo/view?usp=drive_link"
   ]
  },
  {
   "cell_type": "code",
   "execution_count": 1,
   "id": "067dc1f1-c2dc-4d13-bfd0-3c31656e67e9",
   "metadata": {},
   "outputs": [],
   "source": [
    "# Importing the libraries\n",
    "import numpy as np\n",
    "import pandas as pd\n",
    "import matplotlib.pyplot as plt\n",
    "import seaborn as sns"
   ]
  },
  {
   "cell_type": "code",
   "execution_count": 2,
   "id": "9990df48-c5c8-4fba-8824-cf9728acf567",
   "metadata": {},
   "outputs": [
    {
     "data": {
      "text/html": [
       "<div>\n",
       "<style scoped>\n",
       "    .dataframe tbody tr th:only-of-type {\n",
       "        vertical-align: middle;\n",
       "    }\n",
       "\n",
       "    .dataframe tbody tr th {\n",
       "        vertical-align: top;\n",
       "    }\n",
       "\n",
       "    .dataframe thead th {\n",
       "        text-align: right;\n",
       "    }\n",
       "</style>\n",
       "<table border=\"1\" class=\"dataframe\">\n",
       "  <thead>\n",
       "    <tr style=\"text-align: right;\">\n",
       "      <th></th>\n",
       "      <th>User_ID</th>\n",
       "      <th>Cust_name</th>\n",
       "      <th>Product_ID</th>\n",
       "      <th>Gender</th>\n",
       "      <th>Age Group</th>\n",
       "      <th>Age</th>\n",
       "      <th>Marital_Status</th>\n",
       "      <th>State</th>\n",
       "      <th>Zone</th>\n",
       "      <th>Occupation</th>\n",
       "      <th>Product_Category</th>\n",
       "      <th>Orders</th>\n",
       "      <th>Amount</th>\n",
       "      <th>Status</th>\n",
       "      <th>unnamed1</th>\n",
       "    </tr>\n",
       "  </thead>\n",
       "  <tbody>\n",
       "    <tr>\n",
       "      <th>0</th>\n",
       "      <td>1002903.0</td>\n",
       "      <td>Sanskriti</td>\n",
       "      <td>P00125942</td>\n",
       "      <td>F</td>\n",
       "      <td>26-35</td>\n",
       "      <td>28</td>\n",
       "      <td>0.0</td>\n",
       "      <td>Maharashtra</td>\n",
       "      <td>Western</td>\n",
       "      <td>Healthcare</td>\n",
       "      <td>Auto</td>\n",
       "      <td>1.0</td>\n",
       "      <td>23952</td>\n",
       "      <td>NaN</td>\n",
       "      <td>NaN</td>\n",
       "    </tr>\n",
       "    <tr>\n",
       "      <th>1</th>\n",
       "      <td>1000732.0</td>\n",
       "      <td>Kartik</td>\n",
       "      <td>P00110942</td>\n",
       "      <td>F</td>\n",
       "      <td>26-35</td>\n",
       "      <td>35</td>\n",
       "      <td>1.0</td>\n",
       "      <td>Andhra Pradesh</td>\n",
       "      <td>Southern</td>\n",
       "      <td>Govt</td>\n",
       "      <td>Auto</td>\n",
       "      <td>3.0</td>\n",
       "      <td>23934</td>\n",
       "      <td>NaN</td>\n",
       "      <td>NaN</td>\n",
       "    </tr>\n",
       "    <tr>\n",
       "      <th>2</th>\n",
       "      <td>1001990.0</td>\n",
       "      <td>Bindu</td>\n",
       "      <td>P00118542</td>\n",
       "      <td>F</td>\n",
       "      <td>26-35</td>\n",
       "      <td>35</td>\n",
       "      <td>1.0</td>\n",
       "      <td>Uttar Pradesh</td>\n",
       "      <td>Central</td>\n",
       "      <td>Automobile</td>\n",
       "      <td>Auto</td>\n",
       "      <td>3.0</td>\n",
       "      <td>23924</td>\n",
       "      <td>NaN</td>\n",
       "      <td>NaN</td>\n",
       "    </tr>\n",
       "    <tr>\n",
       "      <th>3</th>\n",
       "      <td>1001425.0</td>\n",
       "      <td>Sudevi</td>\n",
       "      <td>P00237842</td>\n",
       "      <td>M</td>\n",
       "      <td>0-17</td>\n",
       "      <td>16</td>\n",
       "      <td>0.0</td>\n",
       "      <td>Karnataka</td>\n",
       "      <td>Southern</td>\n",
       "      <td>Construction</td>\n",
       "      <td>Auto</td>\n",
       "      <td>2.0</td>\n",
       "      <td>23912</td>\n",
       "      <td>NaN</td>\n",
       "      <td>NaN</td>\n",
       "    </tr>\n",
       "    <tr>\n",
       "      <th>4</th>\n",
       "      <td>1000588.0</td>\n",
       "      <td>Joni</td>\n",
       "      <td>P00057942</td>\n",
       "      <td>M</td>\n",
       "      <td>26-35</td>\n",
       "      <td>28</td>\n",
       "      <td>1.0</td>\n",
       "      <td>Gujarat</td>\n",
       "      <td>Western</td>\n",
       "      <td>Food Processing</td>\n",
       "      <td>Auto</td>\n",
       "      <td>2.0</td>\n",
       "      <td>23877</td>\n",
       "      <td>NaN</td>\n",
       "      <td>NaN</td>\n",
       "    </tr>\n",
       "  </tbody>\n",
       "</table>\n",
       "</div>"
      ],
      "text/plain": [
       "     User_ID  Cust_name Product_ID Gender Age Group Age  Marital_Status  \\\n",
       "0  1002903.0  Sanskriti  P00125942      F     26-35  28             0.0   \n",
       "1  1000732.0     Kartik  P00110942      F     26-35  35             1.0   \n",
       "2  1001990.0      Bindu  P00118542      F     26-35  35             1.0   \n",
       "3  1001425.0     Sudevi  P00237842      M      0-17  16             0.0   \n",
       "4  1000588.0       Joni  P00057942      M     26-35  28             1.0   \n",
       "\n",
       "            State      Zone       Occupation Product_Category  Orders Amount  \\\n",
       "0     Maharashtra   Western       Healthcare             Auto     1.0  23952   \n",
       "1  Andhra Pradesh  Southern             Govt             Auto     3.0  23934   \n",
       "2   Uttar Pradesh   Central       Automobile             Auto     3.0  23924   \n",
       "3       Karnataka  Southern     Construction             Auto     2.0  23912   \n",
       "4         Gujarat   Western  Food Processing             Auto     2.0  23877   \n",
       "\n",
       "   Status  unnamed1  \n",
       "0     NaN       NaN  \n",
       "1     NaN       NaN  \n",
       "2     NaN       NaN  \n",
       "3     NaN       NaN  \n",
       "4     NaN       NaN  "
      ]
     },
     "execution_count": 2,
     "metadata": {},
     "output_type": "execute_result"
    }
   ],
   "source": [
    "data=pd.read_csv(\"C:\\\\Users\\\\DELL\\Diwali Sales Data.csv\",encoding=\"unicode_escape\")\n",
    "data.head()"
   ]
  },
  {
   "cell_type": "code",
   "execution_count": 3,
   "id": "c6a8e0a6-5372-4e3c-bd63-d622e5cb8e11",
   "metadata": {},
   "outputs": [],
   "source": [
    "# Creating a copy of the dataset\n",
    "df = data.copy()"
   ]
  },
  {
   "cell_type": "markdown",
   "id": "6a4374a4-74a7-4b83-be6a-0d27e3ef9952",
   "metadata": {},
   "source": [
    "## Data Pre-processing\n",
    "- **Data Profiling**\n",
    "- **Data Cleaning**\n",
    "- **Data Consistancy**\n",
    "- **Data Formating**\n",
    "- **Outlier Detection & Removal**"
   ]
  },
  {
   "cell_type": "code",
   "execution_count": 5,
   "id": "773d2a64-e701-4afb-979f-70547830d505",
   "metadata": {},
   "outputs": [
    {
     "data": {
      "text/plain": [
       "(11345, 15)"
      ]
     },
     "execution_count": 5,
     "metadata": {},
     "output_type": "execute_result"
    }
   ],
   "source": [
    "df.shape"
   ]
  },
  {
   "cell_type": "code",
   "execution_count": 6,
   "id": "1861528d-6ce8-4324-b9f8-2a8adda5aa54",
   "metadata": {},
   "outputs": [
    {
     "name": "stdout",
     "output_type": "stream",
     "text": [
      "<class 'pandas.core.frame.DataFrame'>\n",
      "RangeIndex: 11345 entries, 0 to 11344\n",
      "Data columns (total 15 columns):\n",
      " #   Column            Non-Null Count  Dtype  \n",
      "---  ------            --------------  -----  \n",
      " 0   User_ID           11321 non-null  float64\n",
      " 1   Cust_name         11344 non-null  object \n",
      " 2   Product_ID        11341 non-null  object \n",
      " 3   Gender            11341 non-null  object \n",
      " 4   Age Group         11339 non-null  object \n",
      " 5   Age               11334 non-null  object \n",
      " 6   Marital_Status    11339 non-null  float64\n",
      " 7   State             11332 non-null  object \n",
      " 8   Zone              11334 non-null  object \n",
      " 9   Occupation        11339 non-null  object \n",
      " 10  Product_Category  11334 non-null  object \n",
      " 11  Orders            11342 non-null  float64\n",
      " 12  Amount            11331 non-null  object \n",
      " 13  Status            0 non-null      float64\n",
      " 14  unnamed1          0 non-null      float64\n",
      "dtypes: float64(5), object(10)\n",
      "memory usage: 1.3+ MB\n"
     ]
    }
   ],
   "source": [
    "df.info()"
   ]
  },
  {
   "cell_type": "code",
   "execution_count": 7,
   "id": "cc1f1343-ca0b-42df-80b0-81e97a7c0c8c",
   "metadata": {},
   "outputs": [
    {
     "data": {
      "text/plain": [
       "User_ID                24\n",
       "Cust_name               1\n",
       "Product_ID              4\n",
       "Gender                  4\n",
       "Age Group               6\n",
       "Age                    11\n",
       "Marital_Status          6\n",
       "State                  13\n",
       "Zone                   11\n",
       "Occupation              6\n",
       "Product_Category       11\n",
       "Orders                  3\n",
       "Amount                 14\n",
       "Status              11345\n",
       "unnamed1            11345\n",
       "dtype: int64"
      ]
     },
     "execution_count": 7,
     "metadata": {},
     "output_type": "execute_result"
    }
   ],
   "source": [
    "# Null values\n",
    "df.isna().sum()"
   ]
  },
  {
   "cell_type": "code",
   "execution_count": 8,
   "id": "8deb62d5-94d7-46e2-a27f-bd9c4d27b837",
   "metadata": {},
   "outputs": [
    {
     "data": {
      "text/plain": [
       "Index(['User_ID', 'Cust_name', 'Product_ID', 'Gender', 'Age Group', 'Age',\n",
       "       'Marital_Status', 'State', 'Zone', 'Occupation', 'Product_Category',\n",
       "       'Orders', 'Amount', 'Status', 'unnamed1'],\n",
       "      dtype='object')"
      ]
     },
     "execution_count": 8,
     "metadata": {},
     "output_type": "execute_result"
    }
   ],
   "source": [
    "# All columns\n",
    "all_columns = df.columns\n",
    "all_columns"
   ]
  },
  {
   "cell_type": "code",
   "execution_count": 9,
   "id": "9c01dfeb-cf01-4b01-ae9e-984dbffee0ed",
   "metadata": {},
   "outputs": [
    {
     "data": {
      "text/plain": [
       "Index(['User_ID', 'Marital_Status', 'Orders', 'Status', 'unnamed1'], dtype='object')"
      ]
     },
     "execution_count": 9,
     "metadata": {},
     "output_type": "execute_result"
    }
   ],
   "source": [
    "# Numeric columns\n",
    "numeric_columns = df.select_dtypes(include = np.number).columns\n",
    "numeric_columns"
   ]
  },
  {
   "cell_type": "code",
   "execution_count": 10,
   "id": "2fc78b1c-b8c1-4f94-8469-db4edf156b33",
   "metadata": {},
   "outputs": [
    {
     "data": {
      "text/plain": [
       "Index(['Cust_name', 'Product_ID', 'Gender', 'Age Group', 'Age', 'State',\n",
       "       'Zone', 'Occupation', 'Product_Category', 'Amount'],\n",
       "      dtype='object')"
      ]
     },
     "execution_count": 10,
     "metadata": {},
     "output_type": "execute_result"
    }
   ],
   "source": [
    "# Non-Numeric columns\n",
    "non_numeric_columns = df.select_dtypes(include = object).columns\n",
    "non_numeric_columns"
   ]
  },
  {
   "cell_type": "code",
   "execution_count": 11,
   "id": "1220c2e1-3383-40e1-b67d-30e973da9c7e",
   "metadata": {},
   "outputs": [
    {
     "data": {
      "text/plain": [
       "0        False\n",
       "1        False\n",
       "2        False\n",
       "3        False\n",
       "4        False\n",
       "         ...  \n",
       "11340    False\n",
       "11341    False\n",
       "11342    False\n",
       "11343     True\n",
       "11344    False\n",
       "Length: 11345, dtype: bool"
      ]
     },
     "execution_count": 11,
     "metadata": {},
     "output_type": "execute_result"
    }
   ],
   "source": [
    "# Duplicate values\n",
    "df.duplicated()"
   ]
  },
  {
   "cell_type": "code",
   "execution_count": 12,
   "id": "48ba4cd2-833f-4450-a800-d2a221ab2781",
   "metadata": {},
   "outputs": [
    {
     "data": {
      "text/html": [
       "<div>\n",
       "<style scoped>\n",
       "    .dataframe tbody tr th:only-of-type {\n",
       "        vertical-align: middle;\n",
       "    }\n",
       "\n",
       "    .dataframe tbody tr th {\n",
       "        vertical-align: top;\n",
       "    }\n",
       "\n",
       "    .dataframe thead th {\n",
       "        text-align: right;\n",
       "    }\n",
       "</style>\n",
       "<table border=\"1\" class=\"dataframe\">\n",
       "  <thead>\n",
       "    <tr style=\"text-align: right;\">\n",
       "      <th></th>\n",
       "      <th>User_ID</th>\n",
       "      <th>Cust_name</th>\n",
       "      <th>Product_ID</th>\n",
       "      <th>Gender</th>\n",
       "      <th>Age Group</th>\n",
       "      <th>Age</th>\n",
       "      <th>Marital_Status</th>\n",
       "      <th>State</th>\n",
       "      <th>Zone</th>\n",
       "      <th>Occupation</th>\n",
       "      <th>Product_Category</th>\n",
       "      <th>Orders</th>\n",
       "      <th>Amount</th>\n",
       "      <th>Status</th>\n",
       "      <th>unnamed1</th>\n",
       "    </tr>\n",
       "  </thead>\n",
       "  <tbody>\n",
       "  </tbody>\n",
       "</table>\n",
       "</div>"
      ],
      "text/plain": [
       "Empty DataFrame\n",
       "Columns: [User_ID, Cust_name, Product_ID, Gender, Age Group, Age, Marital_Status, State, Zone, Occupation, Product_Category, Orders, Amount, Status, unnamed1]\n",
       "Index: []"
      ]
     },
     "execution_count": 12,
     "metadata": {},
     "output_type": "execute_result"
    }
   ],
   "source": [
    "# Filtering out the duplicate entries\n",
    "df = df[~df.duplicated()]\n",
    "df[df.duplicated()]"
   ]
  },
  {
   "cell_type": "markdown",
   "id": "2ef2c384-3a88-4ba6-8b24-7402ec467ad7",
   "metadata": {},
   "source": [
    "### Data Profiling\n",
    "1. **Amount**\n",
    "    - Need to change the data type from object to integer\n",
    "    - The rows corresponding to null values should be dropped\n",
    "    - Need to drop the rows corresponding to values 'abcds'\n",
    "    \n",
    "2. **Status & unnamed1**\n",
    "    - No data, should be dropped\n",
    "\n",
    "3. **Orders**\n",
    "    - Null values has to be dropped\n",
    "    - Theres is outliers which can be removed\n",
    "\n",
    "4. **State**\n",
    "    - Andhra\\xa0Pradesh & Nndhra\\xa0Pradesh should be replaced with 'Andhra Pradesh'\n",
    "    - Drop the rows corresponding to null values\n",
    "\n",
    "5. **Zone**\n",
    "    - Drop the rows corresponding to null values\n",
    "    - 'Zentral' should be replaced with 'Central\n",
    "\n",
    "6. **Product_ID**\n",
    "    - Drop the rows corresponding to null values\n",
    "\n",
    "7. **Marital_Status**\n",
    "    - Null values can be replaced with mode\n",
    "    - Will create a new column where '1' can be replaced with 'Married' and '0' with unmarried\n",
    "8. **Age**\n",
    "    - 'Age' can be replaced with mode\n",
    "    - Null values can be replaced with mode\n",
    "    - Data type needs to be changed from object to numeric\n",
    "\n",
    "9. **Age Group**\n",
    "    - 'low-high' can be replaced with mode\n",
    "    - Null values can be replaced with mode\n",
    "    \n",
    "10. **Product_Category**\n",
    "    - Null values can be dropped\n",
    "\n",
    "11. **User_ID, Gender, Occupation**\n",
    "    - Null values can be replaced with mod"
   ]
  },
  {
   "cell_type": "markdown",
   "id": "82a683b1-1ea6-49ce-ae6b-2c0ba4325534",
   "metadata": {},
   "source": [
    "### Data Cleaning"
   ]
  },
  {
   "cell_type": "markdown",
   "id": "59a9f9c5-7c99-4887-97f7-5f9639be8c14",
   "metadata": {},
   "source": [
    "#### Status & unnamed1"
   ]
  },
  {
   "cell_type": "code",
   "execution_count": 13,
   "id": "d57c6afc-12c9-4d0d-9871-f3f167a0aeba",
   "metadata": {},
   "outputs": [
    {
     "data": {
      "text/html": [
       "<div>\n",
       "<style scoped>\n",
       "    .dataframe tbody tr th:only-of-type {\n",
       "        vertical-align: middle;\n",
       "    }\n",
       "\n",
       "    .dataframe tbody tr th {\n",
       "        vertical-align: top;\n",
       "    }\n",
       "\n",
       "    .dataframe thead th {\n",
       "        text-align: right;\n",
       "    }\n",
       "</style>\n",
       "<table border=\"1\" class=\"dataframe\">\n",
       "  <thead>\n",
       "    <tr style=\"text-align: right;\">\n",
       "      <th></th>\n",
       "      <th>User_ID</th>\n",
       "      <th>Cust_name</th>\n",
       "      <th>Product_ID</th>\n",
       "      <th>Gender</th>\n",
       "      <th>Age Group</th>\n",
       "      <th>Age</th>\n",
       "      <th>Marital_Status</th>\n",
       "      <th>State</th>\n",
       "      <th>Zone</th>\n",
       "      <th>Occupation</th>\n",
       "      <th>Product_Category</th>\n",
       "      <th>Orders</th>\n",
       "      <th>Amount</th>\n",
       "    </tr>\n",
       "  </thead>\n",
       "  <tbody>\n",
       "    <tr>\n",
       "      <th>0</th>\n",
       "      <td>1002903.0</td>\n",
       "      <td>Sanskriti</td>\n",
       "      <td>P00125942</td>\n",
       "      <td>F</td>\n",
       "      <td>26-35</td>\n",
       "      <td>28</td>\n",
       "      <td>0.0</td>\n",
       "      <td>Maharashtra</td>\n",
       "      <td>Western</td>\n",
       "      <td>Healthcare</td>\n",
       "      <td>Auto</td>\n",
       "      <td>1.0</td>\n",
       "      <td>23952</td>\n",
       "    </tr>\n",
       "    <tr>\n",
       "      <th>1</th>\n",
       "      <td>1000732.0</td>\n",
       "      <td>Kartik</td>\n",
       "      <td>P00110942</td>\n",
       "      <td>F</td>\n",
       "      <td>26-35</td>\n",
       "      <td>35</td>\n",
       "      <td>1.0</td>\n",
       "      <td>Andhra Pradesh</td>\n",
       "      <td>Southern</td>\n",
       "      <td>Govt</td>\n",
       "      <td>Auto</td>\n",
       "      <td>3.0</td>\n",
       "      <td>23934</td>\n",
       "    </tr>\n",
       "  </tbody>\n",
       "</table>\n",
       "</div>"
      ],
      "text/plain": [
       "     User_ID  Cust_name Product_ID Gender Age Group Age  Marital_Status  \\\n",
       "0  1002903.0  Sanskriti  P00125942      F     26-35  28             0.0   \n",
       "1  1000732.0     Kartik  P00110942      F     26-35  35             1.0   \n",
       "\n",
       "            State      Zone  Occupation Product_Category  Orders Amount  \n",
       "0     Maharashtra   Western  Healthcare             Auto     1.0  23952  \n",
       "1  Andhra Pradesh  Southern        Govt             Auto     3.0  23934  "
      ]
     },
     "execution_count": 13,
     "metadata": {},
     "output_type": "execute_result"
    }
   ],
   "source": [
    "# Dropping columns\n",
    "df.drop(['Status', 'unnamed1'],axis =1, inplace = True)\n",
    "df.head(2)"
   ]
  },
  {
   "cell_type": "markdown",
   "id": "3f282966-4a26-41cc-8ad1-55e95ace9e3e",
   "metadata": {},
   "source": [
    "### Amount"
   ]
  },
  {
   "cell_type": "code",
   "execution_count": 14,
   "id": "1ec817c9-fd92-467f-abdc-5bd9e8bcbf99",
   "metadata": {},
   "outputs": [],
   "source": [
    "# Changing the data type\n",
    "df['Amount'] = pd.to_numeric(df['Amount'], errors = 'coerce') \n",
    "# errors = coerce will convert unsupported values into null values"
   ]
  },
  {
   "cell_type": "code",
   "execution_count": 15,
   "id": "a66c6d9d-b3a4-4614-82d1-42fa0c4c6a84",
   "metadata": {},
   "outputs": [],
   "source": [
    "# Dropping rows corresponding to null values in the columns : \n",
    "#['Amount', 'Orders', 'State', 'Zone', 'Product_ID', 'Product_Category']\n",
    "df.dropna(subset = ['Amount', 'Orders', 'State', 'Zone', 'Product_ID', 'Product_Category'], inplace = True)"
   ]
  },
  {
   "cell_type": "markdown",
   "id": "fed7cccc-3d89-464d-bed9-c907de0f6311",
   "metadata": {},
   "source": [
    "### State & Zone"
   ]
  },
  {
   "cell_type": "code",
   "execution_count": 16,
   "id": "a02216d6-8324-4051-b941-53535f3e7a4d",
   "metadata": {},
   "outputs": [],
   "source": [
    "# Replacing the typo\n",
    "df['State'] = df['State'].str.replace('Andhra\\xa0Pradesh',  'Andhra Pradesh')\n",
    "df['State'] = df['State'].str.replace('Nndhra\\xa0Pradesh',  'Andhra Pradesh')\n",
    "df['Zone'] = df['Zone'].str.replace('Zentral',  'Central')"
   ]
  },
  {
   "cell_type": "code",
   "execution_count": 17,
   "id": "6634e982-7a90-4e7f-a387-5f139232d25f",
   "metadata": {},
   "outputs": [
    {
     "data": {
      "text/plain": [
       "array(['Western', 'Southern', 'Central', 'Northern', 'Eastern'],\n",
       "      dtype=object)"
      ]
     },
     "execution_count": 17,
     "metadata": {},
     "output_type": "execute_result"
    }
   ],
   "source": [
    "df['Zone'].unique()"
   ]
  },
  {
   "cell_type": "code",
   "execution_count": 18,
   "id": "0d03c972-cd67-4a93-99f9-45ea0d4a8f71",
   "metadata": {},
   "outputs": [
    {
     "data": {
      "text/plain": [
       "array(['Maharashtra', 'Andhra Pradesh', 'Uttar Pradesh', 'Karnataka',\n",
       "       'Gujarat', 'Himachal Pradesh', 'Delhi', 'Jharkhand', 'Kerala',\n",
       "       'Madhya Pradesh', 'Bihar', 'Rajasthan', 'Haryana', 'Uttarakhand',\n",
       "       'Telangana', 'Punjab'], dtype=object)"
      ]
     },
     "execution_count": 18,
     "metadata": {},
     "output_type": "execute_result"
    }
   ],
   "source": [
    "df['State'].unique()"
   ]
  },
  {
   "cell_type": "markdown",
   "id": "f3ad7298-681e-4729-916f-2a5edf06d398",
   "metadata": {},
   "source": [
    "### Product id & Category already clean"
   ]
  },
  {
   "cell_type": "markdown",
   "id": "b4ec57bc-f449-4d85-9c7a-3dae12b90dcb",
   "metadata": {},
   "source": [
    "### Maritial Status"
   ]
  },
  {
   "cell_type": "code",
   "execution_count": 19,
   "id": "f502c904-ab89-4d1a-8e0a-210b7578e9dc",
   "metadata": {},
   "outputs": [],
   "source": [
    "# Replacing the null values with mode\n",
    "marital_status_mode = df['Marital_Status'].mode()[0]\n",
    "marital_status_mode\n",
    "\n",
    "df['Marital_Status'] = df['Marital_Status'].fillna(marital_status_mode)\n"
   ]
  },
  {
   "cell_type": "code",
   "execution_count": 20,
   "id": "d235c53f-0191-4839-982b-0b2917adda3e",
   "metadata": {},
   "outputs": [],
   "source": [
    "# Creating a new column with marital_status\n",
    "df['marraige_status'] = df['Marital_Status'].apply(lambda x: 'Married' if(x ==1.) else 'Unmarried')"
   ]
  },
  {
   "cell_type": "code",
   "execution_count": 21,
   "id": "7b45311a-3520-4a40-af49-9b68c6761490",
   "metadata": {},
   "outputs": [
    {
     "data": {
      "text/html": [
       "<div>\n",
       "<style scoped>\n",
       "    .dataframe tbody tr th:only-of-type {\n",
       "        vertical-align: middle;\n",
       "    }\n",
       "\n",
       "    .dataframe tbody tr th {\n",
       "        vertical-align: top;\n",
       "    }\n",
       "\n",
       "    .dataframe thead th {\n",
       "        text-align: right;\n",
       "    }\n",
       "</style>\n",
       "<table border=\"1\" class=\"dataframe\">\n",
       "  <thead>\n",
       "    <tr style=\"text-align: right;\">\n",
       "      <th></th>\n",
       "      <th>User_ID</th>\n",
       "      <th>Cust_name</th>\n",
       "      <th>Product_ID</th>\n",
       "      <th>Gender</th>\n",
       "      <th>Age Group</th>\n",
       "      <th>Age</th>\n",
       "      <th>Marital_Status</th>\n",
       "      <th>State</th>\n",
       "      <th>Zone</th>\n",
       "      <th>Occupation</th>\n",
       "      <th>Product_Category</th>\n",
       "      <th>Orders</th>\n",
       "      <th>Amount</th>\n",
       "      <th>marraige_status</th>\n",
       "    </tr>\n",
       "  </thead>\n",
       "  <tbody>\n",
       "    <tr>\n",
       "      <th>0</th>\n",
       "      <td>1002903.0</td>\n",
       "      <td>Sanskriti</td>\n",
       "      <td>P00125942</td>\n",
       "      <td>F</td>\n",
       "      <td>26-35</td>\n",
       "      <td>28</td>\n",
       "      <td>0.0</td>\n",
       "      <td>Maharashtra</td>\n",
       "      <td>Western</td>\n",
       "      <td>Healthcare</td>\n",
       "      <td>Auto</td>\n",
       "      <td>1.0</td>\n",
       "      <td>23952.0</td>\n",
       "      <td>Unmarried</td>\n",
       "    </tr>\n",
       "    <tr>\n",
       "      <th>1</th>\n",
       "      <td>1000732.0</td>\n",
       "      <td>Kartik</td>\n",
       "      <td>P00110942</td>\n",
       "      <td>F</td>\n",
       "      <td>26-35</td>\n",
       "      <td>35</td>\n",
       "      <td>1.0</td>\n",
       "      <td>Andhra Pradesh</td>\n",
       "      <td>Southern</td>\n",
       "      <td>Govt</td>\n",
       "      <td>Auto</td>\n",
       "      <td>3.0</td>\n",
       "      <td>23934.0</td>\n",
       "      <td>Married</td>\n",
       "    </tr>\n",
       "  </tbody>\n",
       "</table>\n",
       "</div>"
      ],
      "text/plain": [
       "     User_ID  Cust_name Product_ID Gender Age Group Age  Marital_Status  \\\n",
       "0  1002903.0  Sanskriti  P00125942      F     26-35  28             0.0   \n",
       "1  1000732.0     Kartik  P00110942      F     26-35  35             1.0   \n",
       "\n",
       "            State      Zone  Occupation Product_Category  Orders   Amount  \\\n",
       "0     Maharashtra   Western  Healthcare             Auto     1.0  23952.0   \n",
       "1  Andhra Pradesh  Southern        Govt             Auto     3.0  23934.0   \n",
       "\n",
       "  marraige_status  \n",
       "0       Unmarried  \n",
       "1         Married  "
      ]
     },
     "execution_count": 21,
     "metadata": {},
     "output_type": "execute_result"
    }
   ],
   "source": [
    "df.head(2)"
   ]
  },
  {
   "cell_type": "code",
   "execution_count": 31,
   "id": "20a4f1a6-5578-424a-865b-61fc1620a6c2",
   "metadata": {},
   "outputs": [
    {
     "data": {
      "text/html": [
       "<div>\n",
       "<style scoped>\n",
       "    .dataframe tbody tr th:only-of-type {\n",
       "        vertical-align: middle;\n",
       "    }\n",
       "\n",
       "    .dataframe tbody tr th {\n",
       "        vertical-align: top;\n",
       "    }\n",
       "\n",
       "    .dataframe thead th {\n",
       "        text-align: right;\n",
       "    }\n",
       "</style>\n",
       "<table border=\"1\" class=\"dataframe\">\n",
       "  <thead>\n",
       "    <tr style=\"text-align: right;\">\n",
       "      <th></th>\n",
       "      <th>User_ID</th>\n",
       "      <th>Cust_name</th>\n",
       "      <th>Product_ID</th>\n",
       "      <th>Gender</th>\n",
       "      <th>Age Group</th>\n",
       "      <th>Age</th>\n",
       "      <th>State</th>\n",
       "      <th>Zone</th>\n",
       "      <th>Occupation</th>\n",
       "      <th>Product_Category</th>\n",
       "      <th>Orders</th>\n",
       "      <th>Amount</th>\n",
       "      <th>marraige_status</th>\n",
       "    </tr>\n",
       "  </thead>\n",
       "  <tbody>\n",
       "    <tr>\n",
       "      <th>0</th>\n",
       "      <td>1002903.0</td>\n",
       "      <td>Sanskriti</td>\n",
       "      <td>P00125942</td>\n",
       "      <td>F</td>\n",
       "      <td>26-35</td>\n",
       "      <td>28.0</td>\n",
       "      <td>Maharashtra</td>\n",
       "      <td>Western</td>\n",
       "      <td>Healthcare</td>\n",
       "      <td>Auto</td>\n",
       "      <td>1.0</td>\n",
       "      <td>23952.0</td>\n",
       "      <td>Unmarried</td>\n",
       "    </tr>\n",
       "    <tr>\n",
       "      <th>1</th>\n",
       "      <td>1000732.0</td>\n",
       "      <td>Kartik</td>\n",
       "      <td>P00110942</td>\n",
       "      <td>F</td>\n",
       "      <td>26-35</td>\n",
       "      <td>35.0</td>\n",
       "      <td>Andhra Pradesh</td>\n",
       "      <td>Southern</td>\n",
       "      <td>Govt</td>\n",
       "      <td>Auto</td>\n",
       "      <td>3.0</td>\n",
       "      <td>23934.0</td>\n",
       "      <td>Married</td>\n",
       "    </tr>\n",
       "  </tbody>\n",
       "</table>\n",
       "</div>"
      ],
      "text/plain": [
       "     User_ID  Cust_name Product_ID Gender Age Group   Age           State  \\\n",
       "0  1002903.0  Sanskriti  P00125942      F     26-35  28.0     Maharashtra   \n",
       "1  1000732.0     Kartik  P00110942      F     26-35  35.0  Andhra Pradesh   \n",
       "\n",
       "       Zone  Occupation Product_Category  Orders   Amount marraige_status  \n",
       "0   Western  Healthcare             Auto     1.0  23952.0       Unmarried  \n",
       "1  Southern        Govt             Auto     3.0  23934.0         Married  "
      ]
     },
     "execution_count": 31,
     "metadata": {},
     "output_type": "execute_result"
    }
   ],
   "source": [
    "df.drop([\"Marital_Status\"],axis=1,inplace=True)\n",
    "df.head(2)"
   ]
  },
  {
   "cell_type": "code",
   "execution_count": 32,
   "id": "c1c788dc-91b7-43a0-9797-7a4b983baf1c",
   "metadata": {},
   "outputs": [
    {
     "data": {
      "text/plain": [
       "User_ID             0\n",
       "Cust_name           0\n",
       "Product_ID          0\n",
       "Gender              0\n",
       "Age Group           0\n",
       "Age                 0\n",
       "State               0\n",
       "Zone                0\n",
       "Occupation          0\n",
       "Product_Category    0\n",
       "Orders              0\n",
       "Amount              0\n",
       "marraige_status     0\n",
       "dtype: int64"
      ]
     },
     "execution_count": 32,
     "metadata": {},
     "output_type": "execute_result"
    }
   ],
   "source": [
    "df.isnull().sum()"
   ]
  },
  {
   "cell_type": "markdown",
   "id": "7acb58e3-354e-4b2e-b931-c23740bf2e1b",
   "metadata": {},
   "source": [
    "### Age"
   ]
  },
  {
   "cell_type": "code",
   "execution_count": 33,
   "id": "04a198c2-119b-4ae3-9abd-080c881227b9",
   "metadata": {},
   "outputs": [],
   "source": [
    "# Changing the data type from object to numeric\n",
    "df['Age'] = pd.to_numeric(df['Age'], errors = 'coerce') "
   ]
  },
  {
   "cell_type": "code",
   "execution_count": 34,
   "id": "9db7ec5c-f25e-4aec-8e11-6bad5e11e1de",
   "metadata": {},
   "outputs": [],
   "source": [
    "# Replace the null values with mode\n",
    "age_mode = df['Age'].mode()[0]\n",
    "df['Age'] = df['Age'].fillna(age_mode)"
   ]
  },
  {
   "cell_type": "markdown",
   "id": "626e379b-8645-42a7-9c7b-aca3bb9297e2",
   "metadata": {},
   "source": [
    "### Age Group"
   ]
  },
  {
   "cell_type": "code",
   "execution_count": 35,
   "id": "42f72e18-5e64-498a-b331-e24c8947140a",
   "metadata": {},
   "outputs": [],
   "source": [
    "# Replacing null value and typo with mode\n",
    "age_group_mode = df['Age Group'].mode()[0]\n",
    "age_group_mode\n",
    "df['Age Group'] = df['Age Group'].str.replace('low-high', age_group_mode)\n",
    "df['Age Group'] = df['Age Group'].fillna(age_group_mode)"
   ]
  },
  {
   "cell_type": "markdown",
   "id": "68b91c71-84ed-473b-aa55-0b0cbed9c05b",
   "metadata": {},
   "source": [
    "### User id,Gender,Occupation"
   ]
  },
  {
   "cell_type": "code",
   "execution_count": 36,
   "id": "c0116c3f-9a51-47e8-acd9-dd939419d3ec",
   "metadata": {},
   "outputs": [],
   "source": [
    "# Replacing null values with mode\n",
    "gender_mode = df['Gender'].mode()[0]\n",
    "occupation_mode = df['Occupation'].mode()[0]\n",
    "\n",
    "df['Gender'] = df['Gender'].fillna(gender_mode)\n",
    "df['Occupation'] = df['Occupation'].fillna(occupation_mode)\n",
    "\n",
    "user_id_mode = df['User_ID'].mode()[0]\n",
    "df['User_ID'] = df['User_ID'].fillna(user_id_mode)"
   ]
  },
  {
   "cell_type": "code",
   "execution_count": 37,
   "id": "497f9aff-6095-41e2-9d6d-4f6b5e616b41",
   "metadata": {},
   "outputs": [
    {
     "name": "stdout",
     "output_type": "stream",
     "text": [
      "<class 'pandas.core.frame.DataFrame'>\n",
      "Index: 11254 entries, 0 to 11340\n",
      "Data columns (total 13 columns):\n",
      " #   Column            Non-Null Count  Dtype  \n",
      "---  ------            --------------  -----  \n",
      " 0   User_ID           11254 non-null  float64\n",
      " 1   Cust_name         11254 non-null  object \n",
      " 2   Product_ID        11254 non-null  object \n",
      " 3   Gender            11254 non-null  object \n",
      " 4   Age Group         11254 non-null  object \n",
      " 5   Age               11254 non-null  float64\n",
      " 6   State             11254 non-null  object \n",
      " 7   Zone              11254 non-null  object \n",
      " 8   Occupation        11254 non-null  object \n",
      " 9   Product_Category  11254 non-null  object \n",
      " 10  Orders            11254 non-null  float64\n",
      " 11  Amount            11254 non-null  float64\n",
      " 12  marraige_status   11254 non-null  object \n",
      "dtypes: float64(4), object(9)\n",
      "memory usage: 1.2+ MB\n"
     ]
    }
   ],
   "source": [
    "df.info()"
   ]
  },
  {
   "cell_type": "code",
   "execution_count": 28,
   "id": "83c603f2-12d1-4b29-aa46-60d3399f2fc1",
   "metadata": {},
   "outputs": [
    {
     "data": {
      "text/plain": [
       "User_ID             0\n",
       "Cust_name           0\n",
       "Product_ID          0\n",
       "Gender              0\n",
       "Age Group           0\n",
       "Age                 0\n",
       "Marital_Status      0\n",
       "State               0\n",
       "Zone                0\n",
       "Occupation          0\n",
       "Product_Category    0\n",
       "Orders              0\n",
       "Amount              0\n",
       "marraige_status     0\n",
       "dtype: int64"
      ]
     },
     "execution_count": 28,
     "metadata": {},
     "output_type": "execute_result"
    }
   ],
   "source": [
    "df.isna().sum()"
   ]
  },
  {
   "cell_type": "code",
   "execution_count": 38,
   "id": "3ab4ee21-a484-4883-b24c-89d79940d4e1",
   "metadata": {},
   "outputs": [
    {
     "data": {
      "text/html": [
       "<div>\n",
       "<style scoped>\n",
       "    .dataframe tbody tr th:only-of-type {\n",
       "        vertical-align: middle;\n",
       "    }\n",
       "\n",
       "    .dataframe tbody tr th {\n",
       "        vertical-align: top;\n",
       "    }\n",
       "\n",
       "    .dataframe thead th {\n",
       "        text-align: right;\n",
       "    }\n",
       "</style>\n",
       "<table border=\"1\" class=\"dataframe\">\n",
       "  <thead>\n",
       "    <tr style=\"text-align: right;\">\n",
       "      <th></th>\n",
       "      <th>User_ID</th>\n",
       "      <th>Cust_name</th>\n",
       "      <th>Product_ID</th>\n",
       "      <th>Gender</th>\n",
       "      <th>Age Group</th>\n",
       "      <th>Age</th>\n",
       "      <th>State</th>\n",
       "      <th>Zone</th>\n",
       "      <th>Occupation</th>\n",
       "      <th>Product_Category</th>\n",
       "      <th>Orders</th>\n",
       "      <th>Amount</th>\n",
       "      <th>marraige_status</th>\n",
       "    </tr>\n",
       "  </thead>\n",
       "  <tbody>\n",
       "    <tr>\n",
       "      <th>0</th>\n",
       "      <td>1002903.0</td>\n",
       "      <td>Sanskriti</td>\n",
       "      <td>P00125942</td>\n",
       "      <td>F</td>\n",
       "      <td>26-35</td>\n",
       "      <td>28.0</td>\n",
       "      <td>Maharashtra</td>\n",
       "      <td>Western</td>\n",
       "      <td>Healthcare</td>\n",
       "      <td>Auto</td>\n",
       "      <td>1.0</td>\n",
       "      <td>23952.0</td>\n",
       "      <td>Unmarried</td>\n",
       "    </tr>\n",
       "    <tr>\n",
       "      <th>1</th>\n",
       "      <td>1000732.0</td>\n",
       "      <td>Kartik</td>\n",
       "      <td>P00110942</td>\n",
       "      <td>F</td>\n",
       "      <td>26-35</td>\n",
       "      <td>35.0</td>\n",
       "      <td>Andhra Pradesh</td>\n",
       "      <td>Southern</td>\n",
       "      <td>Govt</td>\n",
       "      <td>Auto</td>\n",
       "      <td>3.0</td>\n",
       "      <td>23934.0</td>\n",
       "      <td>Married</td>\n",
       "    </tr>\n",
       "    <tr>\n",
       "      <th>2</th>\n",
       "      <td>1001990.0</td>\n",
       "      <td>Bindu</td>\n",
       "      <td>P00118542</td>\n",
       "      <td>F</td>\n",
       "      <td>26-35</td>\n",
       "      <td>35.0</td>\n",
       "      <td>Uttar Pradesh</td>\n",
       "      <td>Central</td>\n",
       "      <td>Automobile</td>\n",
       "      <td>Auto</td>\n",
       "      <td>3.0</td>\n",
       "      <td>23924.0</td>\n",
       "      <td>Married</td>\n",
       "    </tr>\n",
       "    <tr>\n",
       "      <th>3</th>\n",
       "      <td>1001425.0</td>\n",
       "      <td>Sudevi</td>\n",
       "      <td>P00237842</td>\n",
       "      <td>M</td>\n",
       "      <td>0-17</td>\n",
       "      <td>16.0</td>\n",
       "      <td>Karnataka</td>\n",
       "      <td>Southern</td>\n",
       "      <td>Construction</td>\n",
       "      <td>Auto</td>\n",
       "      <td>2.0</td>\n",
       "      <td>23912.0</td>\n",
       "      <td>Unmarried</td>\n",
       "    </tr>\n",
       "  </tbody>\n",
       "</table>\n",
       "</div>"
      ],
      "text/plain": [
       "     User_ID  Cust_name Product_ID Gender Age Group   Age           State  \\\n",
       "0  1002903.0  Sanskriti  P00125942      F     26-35  28.0     Maharashtra   \n",
       "1  1000732.0     Kartik  P00110942      F     26-35  35.0  Andhra Pradesh   \n",
       "2  1001990.0      Bindu  P00118542      F     26-35  35.0   Uttar Pradesh   \n",
       "3  1001425.0     Sudevi  P00237842      M      0-17  16.0       Karnataka   \n",
       "\n",
       "       Zone    Occupation Product_Category  Orders   Amount marraige_status  \n",
       "0   Western    Healthcare             Auto     1.0  23952.0       Unmarried  \n",
       "1  Southern          Govt             Auto     3.0  23934.0         Married  \n",
       "2   Central    Automobile             Auto     3.0  23924.0         Married  \n",
       "3  Southern  Construction             Auto     2.0  23912.0       Unmarried  "
      ]
     },
     "execution_count": 38,
     "metadata": {},
     "output_type": "execute_result"
    }
   ],
   "source": [
    "df.head(4)"
   ]
  },
  {
   "cell_type": "code",
   "execution_count": 39,
   "id": "84353470-5b5d-443b-9f1b-4d717b22e1b0",
   "metadata": {},
   "outputs": [
    {
     "data": {
      "text/plain": [
       "(11254, 13)"
      ]
     },
     "execution_count": 39,
     "metadata": {},
     "output_type": "execute_result"
    }
   ],
   "source": [
    "df.shape"
   ]
  },
  {
   "cell_type": "code",
   "execution_count": 40,
   "id": "3c7f64d3-3cc0-4d4e-9a13-871f2a40dc67",
   "metadata": {},
   "outputs": [
    {
     "data": {
      "text/html": [
       "<div>\n",
       "<style scoped>\n",
       "    .dataframe tbody tr th:only-of-type {\n",
       "        vertical-align: middle;\n",
       "    }\n",
       "\n",
       "    .dataframe tbody tr th {\n",
       "        vertical-align: top;\n",
       "    }\n",
       "\n",
       "    .dataframe thead th {\n",
       "        text-align: right;\n",
       "    }\n",
       "</style>\n",
       "<table border=\"1\" class=\"dataframe\">\n",
       "  <thead>\n",
       "    <tr style=\"text-align: right;\">\n",
       "      <th></th>\n",
       "      <th>User_ID</th>\n",
       "      <th>Cust_name</th>\n",
       "      <th>Product_ID</th>\n",
       "      <th>Gender</th>\n",
       "      <th>Age Group</th>\n",
       "      <th>Age</th>\n",
       "      <th>State</th>\n",
       "      <th>Zone</th>\n",
       "      <th>Occupation</th>\n",
       "      <th>Product_Category</th>\n",
       "      <th>Orders</th>\n",
       "      <th>Amount</th>\n",
       "      <th>marraige_status</th>\n",
       "    </tr>\n",
       "  </thead>\n",
       "  <tbody>\n",
       "    <tr>\n",
       "      <th>0</th>\n",
       "      <td>1002903.0</td>\n",
       "      <td>Sanskriti</td>\n",
       "      <td>P00125942</td>\n",
       "      <td>F</td>\n",
       "      <td>26-35</td>\n",
       "      <td>28.0</td>\n",
       "      <td>Maharashtra</td>\n",
       "      <td>Western</td>\n",
       "      <td>Healthcare</td>\n",
       "      <td>Auto</td>\n",
       "      <td>1.0</td>\n",
       "      <td>23952.0</td>\n",
       "      <td>Unmarried</td>\n",
       "    </tr>\n",
       "    <tr>\n",
       "      <th>1</th>\n",
       "      <td>1000732.0</td>\n",
       "      <td>Kartik</td>\n",
       "      <td>P00110942</td>\n",
       "      <td>F</td>\n",
       "      <td>26-35</td>\n",
       "      <td>35.0</td>\n",
       "      <td>Andhra Pradesh</td>\n",
       "      <td>Southern</td>\n",
       "      <td>Govt</td>\n",
       "      <td>Auto</td>\n",
       "      <td>3.0</td>\n",
       "      <td>23934.0</td>\n",
       "      <td>Married</td>\n",
       "    </tr>\n",
       "    <tr>\n",
       "      <th>2</th>\n",
       "      <td>1001990.0</td>\n",
       "      <td>Bindu</td>\n",
       "      <td>P00118542</td>\n",
       "      <td>F</td>\n",
       "      <td>26-35</td>\n",
       "      <td>35.0</td>\n",
       "      <td>Uttar Pradesh</td>\n",
       "      <td>Central</td>\n",
       "      <td>Automobile</td>\n",
       "      <td>Auto</td>\n",
       "      <td>3.0</td>\n",
       "      <td>23924.0</td>\n",
       "      <td>Married</td>\n",
       "    </tr>\n",
       "    <tr>\n",
       "      <th>3</th>\n",
       "      <td>1001425.0</td>\n",
       "      <td>Sudevi</td>\n",
       "      <td>P00237842</td>\n",
       "      <td>M</td>\n",
       "      <td>0-17</td>\n",
       "      <td>16.0</td>\n",
       "      <td>Karnataka</td>\n",
       "      <td>Southern</td>\n",
       "      <td>Construction</td>\n",
       "      <td>Auto</td>\n",
       "      <td>2.0</td>\n",
       "      <td>23912.0</td>\n",
       "      <td>Unmarried</td>\n",
       "    </tr>\n",
       "    <tr>\n",
       "      <th>4</th>\n",
       "      <td>1000588.0</td>\n",
       "      <td>Joni</td>\n",
       "      <td>P00057942</td>\n",
       "      <td>M</td>\n",
       "      <td>26-35</td>\n",
       "      <td>28.0</td>\n",
       "      <td>Gujarat</td>\n",
       "      <td>Western</td>\n",
       "      <td>Food Processing</td>\n",
       "      <td>Auto</td>\n",
       "      <td>2.0</td>\n",
       "      <td>23877.0</td>\n",
       "      <td>Married</td>\n",
       "    </tr>\n",
       "  </tbody>\n",
       "</table>\n",
       "</div>"
      ],
      "text/plain": [
       "     User_ID  Cust_name Product_ID Gender Age Group   Age           State  \\\n",
       "0  1002903.0  Sanskriti  P00125942      F     26-35  28.0     Maharashtra   \n",
       "1  1000732.0     Kartik  P00110942      F     26-35  35.0  Andhra Pradesh   \n",
       "2  1001990.0      Bindu  P00118542      F     26-35  35.0   Uttar Pradesh   \n",
       "3  1001425.0     Sudevi  P00237842      M      0-17  16.0       Karnataka   \n",
       "4  1000588.0       Joni  P00057942      M     26-35  28.0         Gujarat   \n",
       "\n",
       "       Zone       Occupation Product_Category  Orders   Amount marraige_status  \n",
       "0   Western       Healthcare             Auto     1.0  23952.0       Unmarried  \n",
       "1  Southern             Govt             Auto     3.0  23934.0         Married  \n",
       "2   Central       Automobile             Auto     3.0  23924.0         Married  \n",
       "3  Southern     Construction             Auto     2.0  23912.0       Unmarried  \n",
       "4   Western  Food Processing             Auto     2.0  23877.0         Married  "
      ]
     },
     "execution_count": 40,
     "metadata": {},
     "output_type": "execute_result"
    }
   ],
   "source": [
    "df.head()"
   ]
  },
  {
   "cell_type": "code",
   "execution_count": 41,
   "id": "8be5f79a-7c5f-48aa-8b08-f66685b7e0d5",
   "metadata": {},
   "outputs": [
    {
     "data": {
      "text/plain": [
       "User_ID             0\n",
       "Cust_name           0\n",
       "Product_ID          0\n",
       "Gender              0\n",
       "Age Group           0\n",
       "Age                 0\n",
       "State               0\n",
       "Zone                0\n",
       "Occupation          0\n",
       "Product_Category    0\n",
       "Orders              0\n",
       "Amount              0\n",
       "marraige_status     0\n",
       "dtype: int64"
      ]
     },
     "execution_count": 41,
     "metadata": {},
     "output_type": "execute_result"
    }
   ],
   "source": [
    "df.isna().sum()"
   ]
  },
  {
   "cell_type": "markdown",
   "id": "f5f08623-563d-47a0-a535-45008f08c730",
   "metadata": {},
   "source": [
    "### All data are Clean Now..!!"
   ]
  },
  {
   "cell_type": "markdown",
   "id": "16547d7e-35ea-4085-b89e-401a6737ec45",
   "metadata": {},
   "source": [
    "### **Outlier Detection & Removal**"
   ]
  },
  {
   "cell_type": "code",
   "execution_count": 42,
   "id": "4f8f1352-3335-43e1-9ed8-b164cfbd2ac2",
   "metadata": {},
   "outputs": [
    {
     "data": {
      "text/html": [
       "<div>\n",
       "<style scoped>\n",
       "    .dataframe tbody tr th:only-of-type {\n",
       "        vertical-align: middle;\n",
       "    }\n",
       "\n",
       "    .dataframe tbody tr th {\n",
       "        vertical-align: top;\n",
       "    }\n",
       "\n",
       "    .dataframe thead th {\n",
       "        text-align: right;\n",
       "    }\n",
       "</style>\n",
       "<table border=\"1\" class=\"dataframe\">\n",
       "  <thead>\n",
       "    <tr style=\"text-align: right;\">\n",
       "      <th></th>\n",
       "      <th>User_ID</th>\n",
       "      <th>Age</th>\n",
       "      <th>Orders</th>\n",
       "      <th>Amount</th>\n",
       "    </tr>\n",
       "  </thead>\n",
       "  <tbody>\n",
       "    <tr>\n",
       "      <th>count</th>\n",
       "      <td>1.125400e+04</td>\n",
       "      <td>11254.000000</td>\n",
       "      <td>11254.000000</td>\n",
       "      <td>1.125400e+04</td>\n",
       "    </tr>\n",
       "    <tr>\n",
       "      <th>mean</th>\n",
       "      <td>1.013664e+06</td>\n",
       "      <td>35.424382</td>\n",
       "      <td>2.494135</td>\n",
       "      <td>1.916697e+05</td>\n",
       "    </tr>\n",
       "    <tr>\n",
       "      <th>std</th>\n",
       "      <td>3.263686e+05</td>\n",
       "      <td>12.753259</td>\n",
       "      <td>1.186925</td>\n",
       "      <td>1.072906e+07</td>\n",
       "    </tr>\n",
       "    <tr>\n",
       "      <th>min</th>\n",
       "      <td>1.000001e+06</td>\n",
       "      <td>12.000000</td>\n",
       "      <td>1.000000</td>\n",
       "      <td>1.880000e+02</td>\n",
       "    </tr>\n",
       "    <tr>\n",
       "      <th>25%</th>\n",
       "      <td>1.001496e+06</td>\n",
       "      <td>27.000000</td>\n",
       "      <td>2.000000</td>\n",
       "      <td>5.445000e+03</td>\n",
       "    </tr>\n",
       "    <tr>\n",
       "      <th>50%</th>\n",
       "      <td>1.003064e+06</td>\n",
       "      <td>33.000000</td>\n",
       "      <td>2.000000</td>\n",
       "      <td>8.113000e+03</td>\n",
       "    </tr>\n",
       "    <tr>\n",
       "      <th>75%</th>\n",
       "      <td>1.004430e+06</td>\n",
       "      <td>43.000000</td>\n",
       "      <td>3.000000</td>\n",
       "      <td>1.269900e+04</td>\n",
       "    </tr>\n",
       "    <tr>\n",
       "      <th>max</th>\n",
       "      <td>1.100505e+07</td>\n",
       "      <td>92.000000</td>\n",
       "      <td>40.000000</td>\n",
       "      <td>8.760212e+08</td>\n",
       "    </tr>\n",
       "  </tbody>\n",
       "</table>\n",
       "</div>"
      ],
      "text/plain": [
       "            User_ID           Age        Orders        Amount\n",
       "count  1.125400e+04  11254.000000  11254.000000  1.125400e+04\n",
       "mean   1.013664e+06     35.424382      2.494135  1.916697e+05\n",
       "std    3.263686e+05     12.753259      1.186925  1.072906e+07\n",
       "min    1.000001e+06     12.000000      1.000000  1.880000e+02\n",
       "25%    1.001496e+06     27.000000      2.000000  5.445000e+03\n",
       "50%    1.003064e+06     33.000000      2.000000  8.113000e+03\n",
       "75%    1.004430e+06     43.000000      3.000000  1.269900e+04\n",
       "max    1.100505e+07     92.000000     40.000000  8.760212e+08"
      ]
     },
     "execution_count": 42,
     "metadata": {},
     "output_type": "execute_result"
    }
   ],
   "source": [
    "df.describ"
   ]
  },
  {
   "cell_type": "code",
   "execution_count": 43,
   "id": "ddfe21a1-9416-4b60-9430-ac3c381b6ebb",
   "metadata": {},
   "outputs": [
    {
     "data": {
      "text/plain": [
       "Text(0.5, 1.0, \"Box plot for 'Amount'\")"
      ]
     },
     "execution_count": 43,
     "metadata": {},
     "output_type": "execute_result"
    },
    {
     "data": {
      "image/png": "[encoded data removed]",
      "text/plain": [
       "<Figure size 1000x600 with 2 Axes>"
      ]
     },
     "metadata": {},
     "output_type": "display_data"
    }
   ],
   "source": [
    "# Visulaization of outliers\n",
    "fig,ax = plt.subplots(1,2, figsize = (10,6))\n",
    "sns.boxplot(data = df['Orders'], ax = ax[0])\n",
    "ax[0].set_title(\"Box plot for 'Orders'\")\n",
    "\n",
    "sns.boxplot(data = df['Amount'], ax = ax[1])\n",
    "ax[1].set_title(\"Box plot for 'Amount'\")"
   ]
  },
  {
   "cell_type": "markdown",
   "id": "d2bb241f-c457-4675-9afc-0f59a20b11b7",
   "metadata": {},
   "source": [
    "### Order"
   ]
  },
  {
   "cell_type": "code",
   "execution_count": 45,
   "id": "33d7126c-a76a-4294-ad70-ca7eb53b5777",
   "metadata": {},
   "outputs": [],
   "source": [
    "# Quartile\n",
    "Q1_order = np.quantile(df['Orders'], 0.25)\n",
    "Q3_order = np.quantile(df['Orders'], 0.75)\n",
    "IQR_order = Q3_order - Q1_order\n",
    "#IQR_order\n",
    "lower_limit_order = Q1_order - 1.5*IQR_order\n",
    "upper_limit_order = Q3_order + 1.5*IQR_order"
   ]
  },
  {
   "cell_type": "code",
   "execution_count": 46,
   "id": "5c71cba1-bcbd-46ed-b00e-97d18d0e18f8",
   "metadata": {},
   "outputs": [],
   "source": [
    "# Removing the outliers\n",
    "df = df[(df['Orders'] > lower_limit_order) & (df['Orders'] < upper_limit_order)]"
   ]
  },
  {
   "cell_type": "markdown",
   "id": "60833689-1d45-4fb1-8947-1c6a736b80ae",
   "metadata": {},
   "source": [
    "### Amount"
   ]
  },
  {
   "cell_type": "code",
   "execution_count": 47,
   "id": "066c98bc-c40c-4ce1-97af-81aa24517545",
   "metadata": {},
   "outputs": [
    {
     "name": "stdout",
     "output_type": "stream",
     "text": [
      "-5436.625\n",
      "23580.375\n"
     ]
    }
   ],
   "source": [
    "# Quartile\n",
    "Q1_amount = np.quantile(df['Amount'], 0.25)\n",
    "Q3_amount = np.quantile(df['Amount'], 0.75)\n",
    "IQR_amount = Q3_amount - Q1_amount\n",
    "#IQR_order\n",
    "lower_limit_amount = Q1_amount - 1.5*IQR_amount\n",
    "upper_limit_amount = Q3_amount + 1.5*IQR_amount\n",
    "\n",
    "print(lower_limit_amount)\n",
    "print(upper_limit_amount)"
   ]
  },
  {
   "cell_type": "code",
   "execution_count": 48,
   "id": "cc8866e8-45ec-4baf-9c10-d2178a3f4f40",
   "metadata": {},
   "outputs": [],
   "source": [
    "# Removing the outliers\n",
    "df = df[(df['Amount'] > lower_limit_amount) & (df['Amount'] < upper_limit_amount)]"
   ]
  },
  {
   "cell_type": "code",
   "execution_count": 49,
   "id": "a8c3a06b-bb51-4faa-95b0-d56c211d0bd0",
   "metadata": {},
   "outputs": [
    {
     "data": {
      "text/html": [
       "<div>\n",
       "<style scoped>\n",
       "    .dataframe tbody tr th:only-of-type {\n",
       "        vertical-align: middle;\n",
       "    }\n",
       "\n",
       "    .dataframe tbody tr th {\n",
       "        vertical-align: top;\n",
       "    }\n",
       "\n",
       "    .dataframe thead th {\n",
       "        text-align: right;\n",
       "    }\n",
       "</style>\n",
       "<table border=\"1\" class=\"dataframe\">\n",
       "  <thead>\n",
       "    <tr style=\"text-align: right;\">\n",
       "      <th></th>\n",
       "      <th>User_ID</th>\n",
       "      <th>Age</th>\n",
       "      <th>Orders</th>\n",
       "      <th>Amount</th>\n",
       "    </tr>\n",
       "  </thead>\n",
       "  <tbody>\n",
       "    <tr>\n",
       "      <th>count</th>\n",
       "      <td>1.123400e+04</td>\n",
       "      <td>11234.000000</td>\n",
       "      <td>11234.000000</td>\n",
       "      <td>11234.000000</td>\n",
       "    </tr>\n",
       "    <tr>\n",
       "      <th>mean</th>\n",
       "      <td>1.007453e+06</td>\n",
       "      <td>35.433772</td>\n",
       "      <td>2.489496</td>\n",
       "      <td>9452.764638</td>\n",
       "    </tr>\n",
       "    <tr>\n",
       "      <th>std</th>\n",
       "      <td>2.109026e+05</td>\n",
       "      <td>12.759432</td>\n",
       "      <td>1.114845</td>\n",
       "      <td>5213.784648</td>\n",
       "    </tr>\n",
       "    <tr>\n",
       "      <th>min</th>\n",
       "      <td>1.000001e+06</td>\n",
       "      <td>12.000000</td>\n",
       "      <td>1.000000</td>\n",
       "      <td>188.000000</td>\n",
       "    </tr>\n",
       "    <tr>\n",
       "      <th>25%</th>\n",
       "      <td>1.001496e+06</td>\n",
       "      <td>27.000000</td>\n",
       "      <td>2.000000</td>\n",
       "      <td>5443.000000</td>\n",
       "    </tr>\n",
       "    <tr>\n",
       "      <th>50%</th>\n",
       "      <td>1.003064e+06</td>\n",
       "      <td>33.000000</td>\n",
       "      <td>2.000000</td>\n",
       "      <td>8109.500000</td>\n",
       "    </tr>\n",
       "    <tr>\n",
       "      <th>75%</th>\n",
       "      <td>1.004429e+06</td>\n",
       "      <td>43.000000</td>\n",
       "      <td>3.000000</td>\n",
       "      <td>12681.500000</td>\n",
       "    </tr>\n",
       "    <tr>\n",
       "      <th>max</th>\n",
       "      <td>1.100173e+07</td>\n",
       "      <td>92.000000</td>\n",
       "      <td>4.000000</td>\n",
       "      <td>23568.000000</td>\n",
       "    </tr>\n",
       "  </tbody>\n",
       "</table>\n",
       "</div>"
      ],
      "text/plain": [
       "            User_ID           Age        Orders        Amount\n",
       "count  1.123400e+04  11234.000000  11234.000000  11234.000000\n",
       "mean   1.007453e+06     35.433772      2.489496   9452.764638\n",
       "std    2.109026e+05     12.759432      1.114845   5213.784648\n",
       "min    1.000001e+06     12.000000      1.000000    188.000000\n",
       "25%    1.001496e+06     27.000000      2.000000   5443.000000\n",
       "50%    1.003064e+06     33.000000      2.000000   8109.500000\n",
       "75%    1.004429e+06     43.000000      3.000000  12681.500000\n",
       "max    1.100173e+07     92.000000      4.000000  23568.000000"
      ]
     },
     "execution_count": 49,
     "metadata": {},
     "output_type": "execute_result"
    }
   ],
   "source": [
    "df.describe()"
   ]
  },
  {
   "cell_type": "code",
   "execution_count": 50,
   "id": "e5f487df-d7bd-4250-bc86-06e227908eb0",
   "metadata": {},
   "outputs": [
    {
     "data": {
      "text/html": [
       "<div>\n",
       "<style scoped>\n",
       "    .dataframe tbody tr th:only-of-type {\n",
       "        vertical-align: middle;\n",
       "    }\n",
       "\n",
       "    .dataframe tbody tr th {\n",
       "        vertical-align: top;\n",
       "    }\n",
       "\n",
       "    .dataframe thead th {\n",
       "        text-align: right;\n",
       "    }\n",
       "</style>\n",
       "<table border=\"1\" class=\"dataframe\">\n",
       "  <thead>\n",
       "    <tr style=\"text-align: right;\">\n",
       "      <th></th>\n",
       "      <th>User_ID</th>\n",
       "      <th>Cust_name</th>\n",
       "      <th>Product_ID</th>\n",
       "      <th>Gender</th>\n",
       "      <th>Age Group</th>\n",
       "      <th>Age</th>\n",
       "      <th>Marital_Status</th>\n",
       "      <th>State</th>\n",
       "      <th>Zone</th>\n",
       "      <th>Occupation</th>\n",
       "      <th>Product_Category</th>\n",
       "      <th>Orders</th>\n",
       "      <th>Amount</th>\n",
       "      <th>Status</th>\n",
       "      <th>unnamed1</th>\n",
       "    </tr>\n",
       "  </thead>\n",
       "  <tbody>\n",
       "    <tr>\n",
       "      <th>0</th>\n",
       "      <td>1002903.0</td>\n",
       "      <td>Sanskriti</td>\n",
       "      <td>P00125942</td>\n",
       "      <td>F</td>\n",
       "      <td>26-35</td>\n",
       "      <td>28</td>\n",
       "      <td>0.0</td>\n",
       "      <td>Maharashtra</td>\n",
       "      <td>Western</td>\n",
       "      <td>Healthcare</td>\n",
       "      <td>Auto</td>\n",
       "      <td>1.0</td>\n",
       "      <td>23952</td>\n",
       "      <td>NaN</td>\n",
       "      <td>NaN</td>\n",
       "    </tr>\n",
       "    <tr>\n",
       "      <th>1</th>\n",
       "      <td>1000732.0</td>\n",
       "      <td>Kartik</td>\n",
       "      <td>P00110942</td>\n",
       "      <td>F</td>\n",
       "      <td>26-35</td>\n",
       "      <td>35</td>\n",
       "      <td>1.0</td>\n",
       "      <td>Andhra Pradesh</td>\n",
       "      <td>Southern</td>\n",
       "      <td>Govt</td>\n",
       "      <td>Auto</td>\n",
       "      <td>3.0</td>\n",
       "      <td>23934</td>\n",
       "      <td>NaN</td>\n",
       "      <td>NaN</td>\n",
       "    </tr>\n",
       "    <tr>\n",
       "      <th>2</th>\n",
       "      <td>1001990.0</td>\n",
       "      <td>Bindu</td>\n",
       "      <td>P00118542</td>\n",
       "      <td>F</td>\n",
       "      <td>26-35</td>\n",
       "      <td>35</td>\n",
       "      <td>1.0</td>\n",
       "      <td>Uttar Pradesh</td>\n",
       "      <td>Central</td>\n",
       "      <td>Automobile</td>\n",
       "      <td>Auto</td>\n",
       "      <td>3.0</td>\n",
       "      <td>23924</td>\n",
       "      <td>NaN</td>\n",
       "      <td>NaN</td>\n",
       "    </tr>\n",
       "    <tr>\n",
       "      <th>3</th>\n",
       "      <td>1001425.0</td>\n",
       "      <td>Sudevi</td>\n",
       "      <td>P00237842</td>\n",
       "      <td>M</td>\n",
       "      <td>0-17</td>\n",
       "      <td>16</td>\n",
       "      <td>0.0</td>\n",
       "      <td>Karnataka</td>\n",
       "      <td>Southern</td>\n",
       "      <td>Construction</td>\n",
       "      <td>Auto</td>\n",
       "      <td>2.0</td>\n",
       "      <td>23912</td>\n",
       "      <td>NaN</td>\n",
       "      <td>NaN</td>\n",
       "    </tr>\n",
       "    <tr>\n",
       "      <th>4</th>\n",
       "      <td>1000588.0</td>\n",
       "      <td>Joni</td>\n",
       "      <td>P00057942</td>\n",
       "      <td>M</td>\n",
       "      <td>26-35</td>\n",
       "      <td>28</td>\n",
       "      <td>1.0</td>\n",
       "      <td>Gujarat</td>\n",
       "      <td>Western</td>\n",
       "      <td>Food Processing</td>\n",
       "      <td>Auto</td>\n",
       "      <td>2.0</td>\n",
       "      <td>23877</td>\n",
       "      <td>NaN</td>\n",
       "      <td>NaN</td>\n",
       "    </tr>\n",
       "  </tbody>\n",
       "</table>\n",
       "</div>"
      ],
      "text/plain": [
       "     User_ID  Cust_name Product_ID Gender Age Group Age  Marital_Status  \\\n",
       "0  1002903.0  Sanskriti  P00125942      F     26-35  28             0.0   \n",
       "1  1000732.0     Kartik  P00110942      F     26-35  35             1.0   \n",
       "2  1001990.0      Bindu  P00118542      F     26-35  35             1.0   \n",
       "3  1001425.0     Sudevi  P00237842      M      0-17  16             0.0   \n",
       "4  1000588.0       Joni  P00057942      M     26-35  28             1.0   \n",
       "\n",
       "            State      Zone       Occupation Product_Category  Orders Amount  \\\n",
       "0     Maharashtra   Western       Healthcare             Auto     1.0  23952   \n",
       "1  Andhra Pradesh  Southern             Govt             Auto     3.0  23934   \n",
       "2   Uttar Pradesh   Central       Automobile             Auto     3.0  23924   \n",
       "3       Karnataka  Southern     Construction             Auto     2.0  23912   \n",
       "4         Gujarat   Western  Food Processing             Auto     2.0  23877   \n",
       "\n",
       "   Status  unnamed1  \n",
       "0     NaN       NaN  \n",
       "1     NaN       NaN  \n",
       "2     NaN       NaN  \n",
       "3     NaN       NaN  \n",
       "4     NaN       NaN  "
      ]
     },
     "execution_count": 50,
     "metadata": {},
     "output_type": "execute_result"
    }
   ],
   "source": [
    "# Saving the cleaned data\n",
    "df.to_csv(r\"C:\\\\Users\\\\DELL\\Data_Analysis_Pro1.csv\")\n",
    "data.head()"
   ]
  },
  {
   "cell_type": "code",
   "execution_count": 51,
   "id": "3af82a4d-faee-440d-bacf-d2430a14557c",
   "metadata": {},
   "outputs": [
    {
     "name": "stdout",
     "output_type": "stream",
     "text": [
      "<class 'pandas.core.frame.DataFrame'>\n",
      "Index: 11234 entries, 18 to 11333\n",
      "Data columns (total 13 columns):\n",
      " #   Column            Non-Null Count  Dtype  \n",
      "---  ------            --------------  -----  \n",
      " 0   User_ID           11234 non-null  float64\n",
      " 1   Cust_name         11234 non-null  object \n",
      " 2   Product_ID        11234 non-null  object \n",
      " 3   Gender            11234 non-null  object \n",
      " 4   Age Group         11234 non-null  object \n",
      " 5   Age               11234 non-null  float64\n",
      " 6   State             11234 non-null  object \n",
      " 7   Zone              11234 non-null  object \n",
      " 8   Occupation        11234 non-null  object \n",
      " 9   Product_Category  11234 non-null  object \n",
      " 10  Orders            11234 non-null  float64\n",
      " 11  Amount            11234 non-null  float64\n",
      " 12  marraige_status   11234 non-null  object \n",
      "dtypes: float64(4), object(9)\n",
      "memory usage: 1.2+ MB\n"
     ]
    }
   ],
   "source": [
    "df.info()"
   ]
  },
  {
   "cell_type": "markdown",
   "id": "6d44531a-6e77-49b5-bf28-c2eb20a7447e",
   "metadata": {},
   "source": [
    "### **Data Analysis**"
   ]
  },
  {
   "cell_type": "markdown",
   "id": "f062cc2e-4883-4b0d-92f5-eda9f833277d",
   "metadata": {},
   "source": [
    "### Statistical Analysis"
   ]
  },
  {
   "cell_type": "code",
   "execution_count": 52,
   "id": "2cf2410d-bd96-4aca-a94d-d755271c0aee",
   "metadata": {},
   "outputs": [
    {
     "data": {
      "text/html": [
       "<div>\n",
       "<style scoped>\n",
       "    .dataframe tbody tr th:only-of-type {\n",
       "        vertical-align: middle;\n",
       "    }\n",
       "\n",
       "    .dataframe tbody tr th {\n",
       "        vertical-align: top;\n",
       "    }\n",
       "\n",
       "    .dataframe thead th {\n",
       "        text-align: right;\n",
       "    }\n",
       "</style>\n",
       "<table border=\"1\" class=\"dataframe\">\n",
       "  <thead>\n",
       "    <tr style=\"text-align: right;\">\n",
       "      <th></th>\n",
       "      <th>User_ID</th>\n",
       "      <th>Age</th>\n",
       "      <th>Orders</th>\n",
       "      <th>Amount</th>\n",
       "    </tr>\n",
       "  </thead>\n",
       "  <tbody>\n",
       "    <tr>\n",
       "      <th>count</th>\n",
       "      <td>1.123400e+04</td>\n",
       "      <td>11234.000000</td>\n",
       "      <td>11234.000000</td>\n",
       "      <td>11234.000000</td>\n",
       "    </tr>\n",
       "    <tr>\n",
       "      <th>mean</th>\n",
       "      <td>1.007453e+06</td>\n",
       "      <td>35.433772</td>\n",
       "      <td>2.489496</td>\n",
       "      <td>9452.764638</td>\n",
       "    </tr>\n",
       "    <tr>\n",
       "      <th>std</th>\n",
       "      <td>2.109026e+05</td>\n",
       "      <td>12.759432</td>\n",
       "      <td>1.114845</td>\n",
       "      <td>5213.784648</td>\n",
       "    </tr>\n",
       "    <tr>\n",
       "      <th>min</th>\n",
       "      <td>1.000001e+06</td>\n",
       "      <td>12.000000</td>\n",
       "      <td>1.000000</td>\n",
       "      <td>188.000000</td>\n",
       "    </tr>\n",
       "    <tr>\n",
       "      <th>25%</th>\n",
       "      <td>1.001496e+06</td>\n",
       "      <td>27.000000</td>\n",
       "      <td>2.000000</td>\n",
       "      <td>5443.000000</td>\n",
       "    </tr>\n",
       "    <tr>\n",
       "      <th>50%</th>\n",
       "      <td>1.003064e+06</td>\n",
       "      <td>33.000000</td>\n",
       "      <td>2.000000</td>\n",
       "      <td>8109.500000</td>\n",
       "    </tr>\n",
       "    <tr>\n",
       "      <th>75%</th>\n",
       "      <td>1.004429e+06</td>\n",
       "      <td>43.000000</td>\n",
       "      <td>3.000000</td>\n",
       "      <td>12681.500000</td>\n",
       "    </tr>\n",
       "    <tr>\n",
       "      <th>max</th>\n",
       "      <td>1.100173e+07</td>\n",
       "      <td>92.000000</td>\n",
       "      <td>4.000000</td>\n",
       "      <td>23568.000000</td>\n",
       "    </tr>\n",
       "  </tbody>\n",
       "</table>\n",
       "</div>"
      ],
      "text/plain": [
       "            User_ID           Age        Orders        Amount\n",
       "count  1.123400e+04  11234.000000  11234.000000  11234.000000\n",
       "mean   1.007453e+06     35.433772      2.489496   9452.764638\n",
       "std    2.109026e+05     12.759432      1.114845   5213.784648\n",
       "min    1.000001e+06     12.000000      1.000000    188.000000\n",
       "25%    1.001496e+06     27.000000      2.000000   5443.000000\n",
       "50%    1.003064e+06     33.000000      2.000000   8109.500000\n",
       "75%    1.004429e+06     43.000000      3.000000  12681.500000\n",
       "max    1.100173e+07     92.000000      4.000000  23568.000000"
      ]
     },
     "execution_count": 52,
     "metadata": {},
     "output_type": "execute_result"
    }
   ],
   "source": [
    "df.describe()"
   ]
  },
  {
   "cell_type": "code",
   "execution_count": 53,
   "id": "1929493a-9baf-4345-96e9-4a59dc81448b",
   "metadata": {},
   "outputs": [
    {
     "data": {
      "text/html": [
       "<div>\n",
       "<style scoped>\n",
       "    .dataframe tbody tr th:only-of-type {\n",
       "        vertical-align: middle;\n",
       "    }\n",
       "\n",
       "    .dataframe tbody tr th {\n",
       "        vertical-align: top;\n",
       "    }\n",
       "\n",
       "    .dataframe thead th {\n",
       "        text-align: right;\n",
       "    }\n",
       "</style>\n",
       "<table border=\"1\" class=\"dataframe\">\n",
       "  <thead>\n",
       "    <tr style=\"text-align: right;\">\n",
       "      <th></th>\n",
       "      <th>User_ID</th>\n",
       "      <th>Cust_name</th>\n",
       "      <th>Product_ID</th>\n",
       "      <th>Gender</th>\n",
       "      <th>Age Group</th>\n",
       "      <th>Age</th>\n",
       "      <th>State</th>\n",
       "      <th>Zone</th>\n",
       "      <th>Occupation</th>\n",
       "      <th>Product_Category</th>\n",
       "      <th>Orders</th>\n",
       "      <th>Amount</th>\n",
       "      <th>marraige_status</th>\n",
       "    </tr>\n",
       "  </thead>\n",
       "  <tbody>\n",
       "    <tr>\n",
       "      <th>18</th>\n",
       "      <td>1001883.0</td>\n",
       "      <td>Praneet</td>\n",
       "      <td>P00029842</td>\n",
       "      <td>M</td>\n",
       "      <td>26-35</td>\n",
       "      <td>54.0</td>\n",
       "      <td>Uttar Pradesh</td>\n",
       "      <td>Central</td>\n",
       "      <td>Hospitality</td>\n",
       "      <td>Auto</td>\n",
       "      <td>1.0</td>\n",
       "      <td>23568.0</td>\n",
       "      <td>Married</td>\n",
       "    </tr>\n",
       "    <tr>\n",
       "      <th>19</th>\n",
       "      <td>1001883.0</td>\n",
       "      <td>Praneet</td>\n",
       "      <td>P00029842</td>\n",
       "      <td>M</td>\n",
       "      <td>26-35</td>\n",
       "      <td>54.0</td>\n",
       "      <td>Uttar Pradesh</td>\n",
       "      <td>Central</td>\n",
       "      <td>Hospitality</td>\n",
       "      <td>Auto</td>\n",
       "      <td>1.0</td>\n",
       "      <td>23568.0</td>\n",
       "      <td>Married</td>\n",
       "    </tr>\n",
       "    <tr>\n",
       "      <th>20</th>\n",
       "      <td>1000113.0</td>\n",
       "      <td>Ellis</td>\n",
       "      <td>P00180642</td>\n",
       "      <td>F</td>\n",
       "      <td>26-35</td>\n",
       "      <td>19.0</td>\n",
       "      <td>Andhra Pradesh</td>\n",
       "      <td>Southern</td>\n",
       "      <td>Govt</td>\n",
       "      <td>Auto</td>\n",
       "      <td>4.0</td>\n",
       "      <td>23546.0</td>\n",
       "      <td>Married</td>\n",
       "    </tr>\n",
       "    <tr>\n",
       "      <th>21</th>\n",
       "      <td>1000416.0</td>\n",
       "      <td>Hrisheekesh</td>\n",
       "      <td>P00181842</td>\n",
       "      <td>F</td>\n",
       "      <td>26-35</td>\n",
       "      <td>46.0</td>\n",
       "      <td>Uttar Pradesh</td>\n",
       "      <td>Central</td>\n",
       "      <td>Banking</td>\n",
       "      <td>Auto</td>\n",
       "      <td>2.0</td>\n",
       "      <td>23525.0</td>\n",
       "      <td>Married</td>\n",
       "    </tr>\n",
       "    <tr>\n",
       "      <th>22</th>\n",
       "      <td>1005256.0</td>\n",
       "      <td>Grant</td>\n",
       "      <td>P00101742</td>\n",
       "      <td>F</td>\n",
       "      <td>26-35</td>\n",
       "      <td>30.0</td>\n",
       "      <td>Andhra Pradesh</td>\n",
       "      <td>Southern</td>\n",
       "      <td>IT Sector</td>\n",
       "      <td>Auto</td>\n",
       "      <td>1.0</td>\n",
       "      <td>23518.0</td>\n",
       "      <td>Unmarried</td>\n",
       "    </tr>\n",
       "  </tbody>\n",
       "</table>\n",
       "</div>"
      ],
      "text/plain": [
       "      User_ID    Cust_name Product_ID Gender Age Group   Age           State  \\\n",
       "18  1001883.0      Praneet  P00029842      M     26-35  54.0   Uttar Pradesh   \n",
       "19  1001883.0      Praneet  P00029842      M     26-35  54.0   Uttar Pradesh   \n",
       "20  1000113.0        Ellis  P00180642      F     26-35  19.0  Andhra Pradesh   \n",
       "21  1000416.0  Hrisheekesh  P00181842      F     26-35  46.0   Uttar Pradesh   \n",
       "22  1005256.0        Grant  P00101742      F     26-35  30.0  Andhra Pradesh   \n",
       "\n",
       "        Zone   Occupation Product_Category  Orders   Amount marraige_status  \n",
       "18   Central  Hospitality             Auto     1.0  23568.0         Married  \n",
       "19   Central  Hospitality             Auto     1.0  23568.0         Married  \n",
       "20  Southern         Govt             Auto     4.0  23546.0         Married  \n",
       "21   Central      Banking             Auto     2.0  23525.0         Married  \n",
       "22  Southern    IT Sector             Auto     1.0  23518.0       Unmarried  "
      ]
     },
     "execution_count": 53,
     "metadata": {},
     "output_type": "execute_result"
    }
   ],
   "source": [
    "df.head()"
   ]
  },
  {
   "cell_type": "markdown",
   "id": "814b6adc-8aa6-4945-b468-9b23745c31db",
   "metadata": {},
   "source": [
    "### **Data Visualization**"
   ]
  },
  {
   "cell_type": "markdown",
   "id": "208e91b4-5a8e-4c43-b65e-459068a5a5ce",
   "metadata": {},
   "source": [
    "### Gender Wise"
   ]
  },
  {
   "cell_type": "code",
   "execution_count": 54,
   "id": "1f51fce9-f44d-49ba-a3b8-8f6b93a2957d",
   "metadata": {},
   "outputs": [
    {
     "name": "stdout",
     "output_type": "stream",
     "text": [
      "Gender wise order count \n",
      "   Gender  Orders\n",
      "0      F    7835\n",
      "1      M    3399\n",
      "Gender wise Purchase Power \n",
      "   Gender       Amount\n",
      "0      F  74422989.94\n",
      "1      M  31769368.00\n"
     ]
    }
   ],
   "source": [
    "#Plot data\n",
    "data_gender_count = df.groupby(['Gender'], as_index = False)['Orders'].count()\n",
    "print(\"Gender wise order count \\n\", data_gender_count)\n",
    "\n",
    "data_gender_amount = df.groupby(['Gender'], as_index = False)['Amount'].sum()\n",
    "print(\"Gender wise Purchase Power \\n\", data_gender_amount)"
   ]
  },
  {
   "cell_type": "code",
   "execution_count": 55,
   "id": "e4f60b51-1ea3-40d6-bee4-d43f2e794792",
   "metadata": {},
   "outputs": [
    {
     "data": {
      "image/png": "[encoded data removed]",
      "text/plain": [
       "<Figure size 2000x800 with 2 Axes>"
      ]
     },
     "metadata": {},
     "output_type": "display_data"
    }
   ],
   "source": [
    "# Plotting\n",
    "fig,ax = plt.subplots(1,2, figsize = (20,8))\n",
    "\n",
    "# Pie Chart\n",
    "ax[0].pie(x = data_gender_count['Orders'], \n",
    "           labels = data_gender_count['Gender'], autopct = \"%1.2f%%\")\n",
    "ax[0].set_title(\"Gender Wise Order Count\")\n",
    "\n",
    "# Bar Chart\n",
    "sns.barplot(x = 'Gender', y = 'Amount', data = data_gender_amount, ax = ax[1])\n",
    "ax[1].set_title(\"Gender Wise Purchase Power\")\n",
    "plt.show()"
   ]
  },
  {
   "cell_type": "markdown",
   "id": "a343a257-c96f-4d8c-b539-1fc7ba2022d9",
   "metadata": {},
   "source": [
    "### **Conclusion:**\n",
    "Female Place more Order"
   ]
  },
  {
   "cell_type": "markdown",
   "id": "02a0f20b-104a-4e38-959a-fe5effa96d20",
   "metadata": {},
   "source": [
    "### Maritial status Wise"
   ]
  },
  {
   "cell_type": "code",
   "execution_count": 56,
   "id": "27b74708-d49c-44d0-a4de-c9fc20ab54f7",
   "metadata": {},
   "outputs": [
    {
     "data": {
      "text/html": [
       "<div>\n",
       "<style scoped>\n",
       "    .dataframe tbody tr th:only-of-type {\n",
       "        vertical-align: middle;\n",
       "    }\n",
       "\n",
       "    .dataframe tbody tr th {\n",
       "        vertical-align: top;\n",
       "    }\n",
       "\n",
       "    .dataframe thead th {\n",
       "        text-align: right;\n",
       "    }\n",
       "</style>\n",
       "<table border=\"1\" class=\"dataframe\">\n",
       "  <thead>\n",
       "    <tr style=\"text-align: right;\">\n",
       "      <th></th>\n",
       "      <th>marraige_status</th>\n",
       "      <th>Amount</th>\n",
       "    </tr>\n",
       "  </thead>\n",
       "  <tbody>\n",
       "    <tr>\n",
       "      <th>0</th>\n",
       "      <td>Married</td>\n",
       "      <td>44003938.00</td>\n",
       "    </tr>\n",
       "    <tr>\n",
       "      <th>1</th>\n",
       "      <td>Unmarried</td>\n",
       "      <td>62188419.94</td>\n",
       "    </tr>\n",
       "  </tbody>\n",
       "</table>\n",
       "</div>"
      ],
      "text/plain": [
       "  marraige_status       Amount\n",
       "0         Married  44003938.00\n",
       "1       Unmarried  62188419.94"
      ]
     },
     "execution_count": 56,
     "metadata": {},
     "output_type": "execute_result"
    }
   ],
   "source": [
    "# Plot data\n",
    "data_marraige_status_amount = df.groupby(['marraige_status'], as_index = False)['Amount'].sum()\n",
    "data_marraige_status_amount"
   ]
  },
  {
   "cell_type": "code",
   "execution_count": 57,
   "id": "0db8d2bd-d6d6-4d34-b299-47b2342f5328",
   "metadata": {},
   "outputs": [
    {
     "data": {
      "image/png": "[encoded data removed]",
      "text/plain": [
       "<Figure size 2000x800 with 2 Axes>"
      ]
     },
     "metadata": {},
     "output_type": "display_data"
    }
   ],
   "source": [
    "# Plots\n",
    "fig, ax = plt.subplots(1,2, figsize = (20,8))\n",
    "\n",
    "# Countplot\n",
    "sns.countplot( x = 'marraige_status', hue = 'Gender', data = df, ax = ax[0])\n",
    "ax[0].set_title('Order Count - Maraiage Status')\n",
    "\n",
    "# Barplot for purchase power\n",
    "sns.barplot(y = 'marraige_status', x = 'Amount', orient = 'h',\n",
    "            data = data_marraige_status_amount, ax = ax[1])\n",
    "ax[1].set_title('Purchase - Maraiage Status')\n",
    "\n",
    "plt.show()"
   ]
  },
  {
   "cell_type": "markdown",
   "id": "c4711cdb-b538-4955-a19a-f7eaf762417d",
   "metadata": {},
   "source": [
    "### **Conclusion:**\n",
    "Unmarried Place More order"
   ]
  },
  {
   "cell_type": "code",
   "execution_count": 58,
   "id": "10e5a5a1-5f06-4de0-8cc4-061233761e1e",
   "metadata": {},
   "outputs": [
    {
     "data": {
      "text/html": [
       "<div>\n",
       "<style scoped>\n",
       "    .dataframe tbody tr th:only-of-type {\n",
       "        vertical-align: middle;\n",
       "    }\n",
       "\n",
       "    .dataframe tbody tr th {\n",
       "        vertical-align: top;\n",
       "    }\n",
       "\n",
       "    .dataframe thead th {\n",
       "        text-align: right;\n",
       "    }\n",
       "</style>\n",
       "<table border=\"1\" class=\"dataframe\">\n",
       "  <thead>\n",
       "    <tr style=\"text-align: right;\">\n",
       "      <th></th>\n",
       "      <th>User_ID</th>\n",
       "      <th>Cust_name</th>\n",
       "      <th>Product_ID</th>\n",
       "      <th>Gender</th>\n",
       "      <th>Age Group</th>\n",
       "      <th>Age</th>\n",
       "      <th>State</th>\n",
       "      <th>Zone</th>\n",
       "      <th>Occupation</th>\n",
       "      <th>Product_Category</th>\n",
       "      <th>Orders</th>\n",
       "      <th>Amount</th>\n",
       "      <th>marraige_status</th>\n",
       "    </tr>\n",
       "  </thead>\n",
       "  <tbody>\n",
       "    <tr>\n",
       "      <th>18</th>\n",
       "      <td>1001883.0</td>\n",
       "      <td>Praneet</td>\n",
       "      <td>P00029842</td>\n",
       "      <td>M</td>\n",
       "      <td>26-35</td>\n",
       "      <td>54.0</td>\n",
       "      <td>Uttar Pradesh</td>\n",
       "      <td>Central</td>\n",
       "      <td>Hospitality</td>\n",
       "      <td>Auto</td>\n",
       "      <td>1.0</td>\n",
       "      <td>23568.0</td>\n",
       "      <td>Married</td>\n",
       "    </tr>\n",
       "    <tr>\n",
       "      <th>19</th>\n",
       "      <td>1001883.0</td>\n",
       "      <td>Praneet</td>\n",
       "      <td>P00029842</td>\n",
       "      <td>M</td>\n",
       "      <td>26-35</td>\n",
       "      <td>54.0</td>\n",
       "      <td>Uttar Pradesh</td>\n",
       "      <td>Central</td>\n",
       "      <td>Hospitality</td>\n",
       "      <td>Auto</td>\n",
       "      <td>1.0</td>\n",
       "      <td>23568.0</td>\n",
       "      <td>Married</td>\n",
       "    </tr>\n",
       "  </tbody>\n",
       "</table>\n",
       "</div>"
      ],
      "text/plain": [
       "      User_ID Cust_name Product_ID Gender Age Group   Age          State  \\\n",
       "18  1001883.0   Praneet  P00029842      M     26-35  54.0  Uttar Pradesh   \n",
       "19  1001883.0   Praneet  P00029842      M     26-35  54.0  Uttar Pradesh   \n",
       "\n",
       "       Zone   Occupation Product_Category  Orders   Amount marraige_status  \n",
       "18  Central  Hospitality             Auto     1.0  23568.0         Married  \n",
       "19  Central  Hospitality             Auto     1.0  23568.0         Married  "
      ]
     },
     "execution_count": 58,
     "metadata": {},
     "output_type": "execute_result"
    }
   ],
   "source": [
    "df.head(2)"
   ]
  },
  {
   "cell_type": "markdown",
   "id": "ea030311-982e-40e0-abb3-cb731578fef7",
   "metadata": {},
   "source": [
    "### Age Group"
   ]
  },
  {
   "cell_type": "code",
   "execution_count": 59,
   "id": "32dc9285-6f81-4613-9e84-64ff3fbef6a3",
   "metadata": {},
   "outputs": [
    {
     "data": {
      "text/html": [
       "<div>\n",
       "<style scoped>\n",
       "    .dataframe tbody tr th:only-of-type {\n",
       "        vertical-align: middle;\n",
       "    }\n",
       "\n",
       "    .dataframe tbody tr th {\n",
       "        vertical-align: top;\n",
       "    }\n",
       "\n",
       "    .dataframe thead th {\n",
       "        text-align: right;\n",
       "    }\n",
       "</style>\n",
       "<table border=\"1\" class=\"dataframe\">\n",
       "  <thead>\n",
       "    <tr style=\"text-align: right;\">\n",
       "      <th></th>\n",
       "      <th>Age Group</th>\n",
       "      <th>Amount</th>\n",
       "    </tr>\n",
       "  </thead>\n",
       "  <tbody>\n",
       "    <tr>\n",
       "      <th>0</th>\n",
       "      <td>0-17</td>\n",
       "      <td>2696529.00</td>\n",
       "    </tr>\n",
       "    <tr>\n",
       "      <th>1</th>\n",
       "      <td>18-25</td>\n",
       "      <td>17032196.00</td>\n",
       "    </tr>\n",
       "    <tr>\n",
       "      <th>2</th>\n",
       "      <td>26-35</td>\n",
       "      <td>42603794.95</td>\n",
       "    </tr>\n",
       "    <tr>\n",
       "      <th>3</th>\n",
       "      <td>36-45</td>\n",
       "      <td>22234332.99</td>\n",
       "    </tr>\n",
       "    <tr>\n",
       "      <th>4</th>\n",
       "      <td>46-50</td>\n",
       "      <td>9245595.00</td>\n",
       "    </tr>\n",
       "    <tr>\n",
       "      <th>5</th>\n",
       "      <td>51-55</td>\n",
       "      <td>8278320.00</td>\n",
       "    </tr>\n",
       "    <tr>\n",
       "      <th>6</th>\n",
       "      <td>55+</td>\n",
       "      <td>4101590.00</td>\n",
       "    </tr>\n",
       "  </tbody>\n",
       "</table>\n",
       "</div>"
      ],
      "text/plain": [
       "  Age Group       Amount\n",
       "0      0-17   2696529.00\n",
       "1     18-25  17032196.00\n",
       "2     26-35  42603794.95\n",
       "3     36-45  22234332.99\n",
       "4     46-50   9245595.00\n",
       "5     51-55   8278320.00\n",
       "6       55+   4101590.00"
      ]
     },
     "execution_count": 59,
     "metadata": {},
     "output_type": "execute_result"
    }
   ],
   "source": [
    "# Plot data\n",
    "data_age_group_amount = df.groupby(['Age Group'], as_index = False)['Amount'].sum()\n",
    "data_age_group_amount"
   ]
  },
  {
   "cell_type": "code",
   "execution_count": 60,
   "id": "0c736b26-8599-40e5-9997-73657ccd381d",
   "metadata": {},
   "outputs": [
    {
     "data": {
      "image/png": "[encoded data removed]",
      "text/plain": [
       "<Figure size 2000x800 with 2 Axes>"
      ]
     },
     "metadata": {},
     "output_type": "display_data"
    }
   ],
   "source": [
    "# Plots\n",
    "fig, ax = plt.subplots(1,2, figsize = (20,8))\n",
    "\n",
    "# Countplot\n",
    "sns.countplot( x = 'Age Group', data = df, ax = ax[0])\n",
    "ax[0].set_title('Order Count - Age Group')\n",
    "\n",
    "# Barplot for purchase power\n",
    "sns.barplot(y = 'Age Group', x = 'Amount', orient = 'h',\n",
    "            data = data_age_group_amount, ax = ax[1])\n",
    "ax[1].set_title('Purchase Power - Age Group')\n",
    "\n",
    "plt.show()"
   ]
  },
  {
   "cell_type": "markdown",
   "id": "450f2aaf-0826-49ef-8439-5357abe621fd",
   "metadata": {},
   "source": [
    "### **Conclusion:**\n",
    "26-35 Age group place more order "
   ]
  },
  {
   "cell_type": "markdown",
   "id": "7eedc370-6341-4d78-82c7-29b85bb0e476",
   "metadata": {},
   "source": [
    "#### Analysis Parameter\n",
    "- Gender\n",
    "- Maraige_Status\n",
    "- Age Group\n",
    "- Product_Category\n",
    "- State\n",
    "- Product_ID\n",
    "- Occupation"
   ]
  },
  {
   "cell_type": "code",
   "execution_count": 63,
   "id": "42dd4060-d4f5-44fa-ac08-6ef110346aa0",
   "metadata": {},
   "outputs": [
    {
     "data": {
      "text/plain": [
       "Index(['User_ID', 'Cust_name', 'Product_ID', 'Gender', 'Age Group', 'Age',\n",
       "       'State', 'Zone', 'Occupation', 'Product_Category', 'Orders', 'Amount',\n",
       "       'marraige_status'],\n",
       "      dtype='object')"
      ]
     },
     "execution_count": 63,
     "metadata": {},
     "output_type": "execute_result"
    }
   ],
   "source": [
    "a=df.columns\n",
    "a"
   ]
  },
  {
   "cell_type": "markdown",
   "id": "2c7062b8-e1b9-4fad-864c-d2ba3054563a",
   "metadata": {},
   "source": [
    "### Product_Category"
   ]
  },
  {
   "cell_type": "code",
   "execution_count": 64,
   "id": "d4d166e2-0830-46bc-a41e-614fcdc01d64",
   "metadata": {},
   "outputs": [
    {
     "data": {
      "text/html": [
       "<div>\n",
       "<style scoped>\n",
       "    .dataframe tbody tr th:only-of-type {\n",
       "        vertical-align: middle;\n",
       "    }\n",
       "\n",
       "    .dataframe tbody tr th {\n",
       "        vertical-align: top;\n",
       "    }\n",
       "\n",
       "    .dataframe thead th {\n",
       "        text-align: right;\n",
       "    }\n",
       "</style>\n",
       "<table border=\"1\" class=\"dataframe\">\n",
       "  <thead>\n",
       "    <tr style=\"text-align: right;\">\n",
       "      <th></th>\n",
       "      <th>Product_Category</th>\n",
       "      <th>Amount</th>\n",
       "    </tr>\n",
       "  </thead>\n",
       "  <tbody>\n",
       "    <tr>\n",
       "      <th>0</th>\n",
       "      <td>Auto</td>\n",
       "      <td>1624503.00</td>\n",
       "    </tr>\n",
       "    <tr>\n",
       "      <th>1</th>\n",
       "      <td>Beauty</td>\n",
       "      <td>1959484.00</td>\n",
       "    </tr>\n",
       "    <tr>\n",
       "      <th>2</th>\n",
       "      <td>Books</td>\n",
       "      <td>1061478.00</td>\n",
       "    </tr>\n",
       "    <tr>\n",
       "      <th>3</th>\n",
       "      <td>Clothing &amp; Apparel</td>\n",
       "      <td>16484472.00</td>\n",
       "    </tr>\n",
       "    <tr>\n",
       "      <th>4</th>\n",
       "      <td>Decor</td>\n",
       "      <td>730360.00</td>\n",
       "    </tr>\n",
       "    <tr>\n",
       "      <th>5</th>\n",
       "      <td>Electronics &amp; Gadgets</td>\n",
       "      <td>15607657.00</td>\n",
       "    </tr>\n",
       "    <tr>\n",
       "      <th>6</th>\n",
       "      <td>Food</td>\n",
       "      <td>33933883.50</td>\n",
       "    </tr>\n",
       "    <tr>\n",
       "      <th>7</th>\n",
       "      <td>Footwear &amp; Shoes</td>\n",
       "      <td>16009057.45</td>\n",
       "    </tr>\n",
       "    <tr>\n",
       "      <th>8</th>\n",
       "      <td>Furniture</td>\n",
       "      <td>5481325.99</td>\n",
       "    </tr>\n",
       "    <tr>\n",
       "      <th>9</th>\n",
       "      <td>Games &amp; Toys</td>\n",
       "      <td>4331694.00</td>\n",
       "    </tr>\n",
       "    <tr>\n",
       "      <th>10</th>\n",
       "      <td>Hand &amp; Power Tools</td>\n",
       "      <td>405618.00</td>\n",
       "    </tr>\n",
       "    <tr>\n",
       "      <th>11</th>\n",
       "      <td>Household items</td>\n",
       "      <td>1569337.00</td>\n",
       "    </tr>\n",
       "    <tr>\n",
       "      <th>12</th>\n",
       "      <td>Office</td>\n",
       "      <td>81936.00</td>\n",
       "    </tr>\n",
       "    <tr>\n",
       "      <th>13</th>\n",
       "      <td>Pet Care</td>\n",
       "      <td>482277.00</td>\n",
       "    </tr>\n",
       "    <tr>\n",
       "      <th>14</th>\n",
       "      <td>Sports Products</td>\n",
       "      <td>3635933.00</td>\n",
       "    </tr>\n",
       "    <tr>\n",
       "      <th>15</th>\n",
       "      <td>Stationery</td>\n",
       "      <td>1504531.00</td>\n",
       "    </tr>\n",
       "    <tr>\n",
       "      <th>16</th>\n",
       "      <td>Tupperware</td>\n",
       "      <td>1176109.00</td>\n",
       "    </tr>\n",
       "    <tr>\n",
       "      <th>17</th>\n",
       "      <td>Veterinary</td>\n",
       "      <td>112702.00</td>\n",
       "    </tr>\n",
       "  </tbody>\n",
       "</table>\n",
       "</div>"
      ],
      "text/plain": [
       "         Product_Category       Amount\n",
       "0                    Auto   1624503.00\n",
       "1                  Beauty   1959484.00\n",
       "2                   Books   1061478.00\n",
       "3      Clothing & Apparel  16484472.00\n",
       "4                   Decor    730360.00\n",
       "5   Electronics & Gadgets  15607657.00\n",
       "6                    Food  33933883.50\n",
       "7        Footwear & Shoes  16009057.45\n",
       "8               Furniture   5481325.99\n",
       "9            Games & Toys   4331694.00\n",
       "10     Hand & Power Tools    405618.00\n",
       "11        Household items   1569337.00\n",
       "12                 Office     81936.00\n",
       "13               Pet Care    482277.00\n",
       "14        Sports Products   3635933.00\n",
       "15             Stationery   1504531.00\n",
       "16             Tupperware   1176109.00\n",
       "17             Veterinary    112702.00"
      ]
     },
     "execution_count": 64,
     "metadata": {},
     "output_type": "execute_result"
    }
   ],
   "source": [
    "# Plot data\n",
    "data_product_amount = df.groupby(['Product_Category'], as_index = False)['Amount'].sum()\n",
    "data_product_amount"
   ]
  },
  {
   "cell_type": "code",
   "execution_count": 72,
   "id": "4d154c3c-3c4b-44fe-b022-6dedbf5e6ba5",
   "metadata": {},
   "outputs": [
    {
     "data": {
      "image/png": "[encoded data removed]",
      "text/plain": [
       "<Figure size 2000x800 with 2 Axes>"
      ]
     },
     "metadata": {},
     "output_type": "display_data"
    }
   ],
   "source": [
    "# Plots\n",
    "fig, ax = plt.subplots(1,2, figsize = (20,8))\n",
    "\n",
    "# Countplot\n",
    "sns.countplot( y= 'Product_Category',orient='h',data = df, ax = ax[0])\n",
    "ax[0].set_title('Order Count - Product_Category')\n",
    "\n",
    "# Barplot for purchase power\n",
    "sns.barplot(y = 'Product_Category', x = 'Amount', orient = 'h',\n",
    "            data = data_product_amount, ax = ax[1])\n",
    "ax[1].set_title('Purchase Power - Product_Category')\n",
    "\n",
    "plt.show()"
   ]
  },
  {
   "cell_type": "markdown",
   "id": "1c792065-0fb1-4a49-83f2-875c8731ce85",
   "metadata": {},
   "source": [
    "### **Conclusion:**\n",
    "Cothing and Apparel are sell"
   ]
  },
  {
   "cell_type": "markdown",
   "id": "16641915-0543-4f48-a2cf-32f9cd5d046c",
   "metadata": {},
   "source": [
    "### State Wise"
   ]
  },
  {
   "cell_type": "code",
   "execution_count": 73,
   "id": "cec39679-e9a9-4bd3-b672-a17da8763d6f",
   "metadata": {},
   "outputs": [
    {
     "data": {
      "text/html": [
       "<div>\n",
       "<style scoped>\n",
       "    .dataframe tbody tr th:only-of-type {\n",
       "        vertical-align: middle;\n",
       "    }\n",
       "\n",
       "    .dataframe tbody tr th {\n",
       "        vertical-align: top;\n",
       "    }\n",
       "\n",
       "    .dataframe thead th {\n",
       "        text-align: right;\n",
       "    }\n",
       "</style>\n",
       "<table border=\"1\" class=\"dataframe\">\n",
       "  <thead>\n",
       "    <tr style=\"text-align: right;\">\n",
       "      <th></th>\n",
       "      <th>State</th>\n",
       "      <th>Amount</th>\n",
       "    </tr>\n",
       "  </thead>\n",
       "  <tbody>\n",
       "    <tr>\n",
       "      <th>0</th>\n",
       "      <td>Andhra Pradesh</td>\n",
       "      <td>7894002.00</td>\n",
       "    </tr>\n",
       "    <tr>\n",
       "      <th>1</th>\n",
       "      <td>Bihar</td>\n",
       "      <td>4035457.00</td>\n",
       "    </tr>\n",
       "    <tr>\n",
       "      <th>2</th>\n",
       "      <td>Delhi</td>\n",
       "      <td>11554343.95</td>\n",
       "    </tr>\n",
       "    <tr>\n",
       "      <th>3</th>\n",
       "      <td>Gujarat</td>\n",
       "      <td>3935078.00</td>\n",
       "    </tr>\n",
       "    <tr>\n",
       "      <th>4</th>\n",
       "      <td>Haryana</td>\n",
       "      <td>4196308.00</td>\n",
       "    </tr>\n",
       "    <tr>\n",
       "      <th>5</th>\n",
       "      <td>Himachal Pradesh</td>\n",
       "      <td>4939491.00</td>\n",
       "    </tr>\n",
       "    <tr>\n",
       "      <th>6</th>\n",
       "      <td>Jharkhand</td>\n",
       "      <td>3026456.00</td>\n",
       "    </tr>\n",
       "    <tr>\n",
       "      <th>7</th>\n",
       "      <td>Karnataka</td>\n",
       "      <td>13705829.00</td>\n",
       "    </tr>\n",
       "    <tr>\n",
       "      <th>8</th>\n",
       "      <td>Kerala</td>\n",
       "      <td>3894491.99</td>\n",
       "    </tr>\n",
       "    <tr>\n",
       "      <th>9</th>\n",
       "      <td>Madhya Pradesh</td>\n",
       "      <td>8100944.00</td>\n",
       "    </tr>\n",
       "    <tr>\n",
       "      <th>10</th>\n",
       "      <td>Maharashtra</td>\n",
       "      <td>14400762.00</td>\n",
       "    </tr>\n",
       "    <tr>\n",
       "      <th>11</th>\n",
       "      <td>Punjab</td>\n",
       "      <td>1525800.00</td>\n",
       "    </tr>\n",
       "    <tr>\n",
       "      <th>12</th>\n",
       "      <td>Rajasthan</td>\n",
       "      <td>1930205.00</td>\n",
       "    </tr>\n",
       "    <tr>\n",
       "      <th>13</th>\n",
       "      <td>Telangana</td>\n",
       "      <td>1151490.00</td>\n",
       "    </tr>\n",
       "    <tr>\n",
       "      <th>14</th>\n",
       "      <td>Uttar Pradesh</td>\n",
       "      <td>19360148.00</td>\n",
       "    </tr>\n",
       "    <tr>\n",
       "      <th>15</th>\n",
       "      <td>Uttarakhand</td>\n",
       "      <td>2541552.00</td>\n",
       "    </tr>\n",
       "  </tbody>\n",
       "</table>\n",
       "</div>"
      ],
      "text/plain": [
       "               State       Amount\n",
       "0     Andhra Pradesh   7894002.00\n",
       "1              Bihar   4035457.00\n",
       "2              Delhi  11554343.95\n",
       "3            Gujarat   3935078.00\n",
       "4            Haryana   4196308.00\n",
       "5   Himachal Pradesh   4939491.00\n",
       "6          Jharkhand   3026456.00\n",
       "7          Karnataka  13705829.00\n",
       "8             Kerala   3894491.99\n",
       "9     Madhya Pradesh   8100944.00\n",
       "10       Maharashtra  14400762.00\n",
       "11            Punjab   1525800.00\n",
       "12         Rajasthan   1930205.00\n",
       "13         Telangana   1151490.00\n",
       "14     Uttar Pradesh  19360148.00\n",
       "15       Uttarakhand   2541552.00"
      ]
     },
     "execution_count": 73,
     "metadata": {},
     "output_type": "execute_result"
    }
   ],
   "source": [
    "# Plot data\n",
    "data_state_amount = df.groupby(['State'], as_index = False)['Amount'].sum()\n",
    "data_state_amount"
   ]
  },
  {
   "cell_type": "code",
   "execution_count": 74,
   "id": "7a1a83d0-a5fb-44fa-aed6-de0afb850871",
   "metadata": {},
   "outputs": [
    {
     "data": {
      "image/png": "[encoded data removed]",
      "text/plain": [
       "<Figure size 2000x800 with 2 Axes>"
      ]
     },
     "metadata": {},
     "output_type": "display_data"
    }
   ],
   "source": [
    "# Plots\n",
    "fig, ax = plt.subplots(1,2, figsize = (20,8))\n",
    "\n",
    "# Countplot\n",
    "sns.countplot( y= 'State',orient='h',data = df, ax = ax[0])\n",
    "ax[0].set_title('Order Count - State')\n",
    "\n",
    "# Barplot for purchase power\n",
    "sns.barplot(y = 'State', x = 'Amount', orient = 'h',\n",
    "            data = data_state_amount, ax = ax[1])\n",
    "ax[1].set_title('Purchase Power - State')\n",
    "\n",
    "plt.show()"
   ]
  },
  {
   "cell_type": "markdown",
   "id": "397cc370-3c5d-453a-b743-225232ffc682",
   "metadata": {},
   "source": [
    "### **Conclusion:**\n",
    "Uttar Pradesh Place more order"
   ]
  },
  {
   "cell_type": "markdown",
   "id": "af1407eb-cf2a-4ce3-82d7-b49f1928c4be",
   "metadata": {},
   "source": [
    "### Product_id wise"
   ]
  },
  {
   "cell_type": "code",
   "execution_count": 85,
   "id": "f171fdc5-d4cc-4e79-ac38-133584b02c4c",
   "metadata": {},
   "outputs": [
    {
     "data": {
      "text/html": [
       "<div>\n",
       "<style scoped>\n",
       "    .dataframe tbody tr th:only-of-type {\n",
       "        vertical-align: middle;\n",
       "    }\n",
       "\n",
       "    .dataframe tbody tr th {\n",
       "        vertical-align: top;\n",
       "    }\n",
       "\n",
       "    .dataframe thead th {\n",
       "        text-align: right;\n",
       "    }\n",
       "</style>\n",
       "<table border=\"1\" class=\"dataframe\">\n",
       "  <thead>\n",
       "    <tr style=\"text-align: right;\">\n",
       "      <th></th>\n",
       "      <th>Product_ID</th>\n",
       "      <th>Amount</th>\n",
       "    </tr>\n",
       "  </thead>\n",
       "  <tbody>\n",
       "    <tr>\n",
       "      <th>0</th>\n",
       "      <td>P00000142</td>\n",
       "      <td>248716.0</td>\n",
       "    </tr>\n",
       "    <tr>\n",
       "      <th>1</th>\n",
       "      <td>P00000242</td>\n",
       "      <td>57517.0</td>\n",
       "    </tr>\n",
       "    <tr>\n",
       "      <th>2</th>\n",
       "      <td>P00000342</td>\n",
       "      <td>44963.0</td>\n",
       "    </tr>\n",
       "    <tr>\n",
       "      <th>3</th>\n",
       "      <td>P00000442</td>\n",
       "      <td>12292.0</td>\n",
       "    </tr>\n",
       "    <tr>\n",
       "      <th>4</th>\n",
       "      <td>P00000542</td>\n",
       "      <td>18837.0</td>\n",
       "    </tr>\n",
       "    <tr>\n",
       "      <th>...</th>\n",
       "      <td>...</td>\n",
       "      <td>...</td>\n",
       "    </tr>\n",
       "    <tr>\n",
       "      <th>2344</th>\n",
       "      <td>P0099042</td>\n",
       "      <td>49596.0</td>\n",
       "    </tr>\n",
       "    <tr>\n",
       "      <th>2345</th>\n",
       "      <td>P0099242</td>\n",
       "      <td>64578.0</td>\n",
       "    </tr>\n",
       "    <tr>\n",
       "      <th>2346</th>\n",
       "      <td>P0099342</td>\n",
       "      <td>56982.0</td>\n",
       "    </tr>\n",
       "    <tr>\n",
       "      <th>2347</th>\n",
       "      <td>P0099442</td>\n",
       "      <td>45810.0</td>\n",
       "    </tr>\n",
       "    <tr>\n",
       "      <th>2348</th>\n",
       "      <td>P0099742</td>\n",
       "      <td>12118.0</td>\n",
       "    </tr>\n",
       "  </tbody>\n",
       "</table>\n",
       "<p>2349 rows × 2 columns</p>\n",
       "</div>"
      ],
      "text/plain": [
       "     Product_ID    Amount\n",
       "0     P00000142  248716.0\n",
       "1     P00000242   57517.0\n",
       "2     P00000342   44963.0\n",
       "3     P00000442   12292.0\n",
       "4     P00000542   18837.0\n",
       "...         ...       ...\n",
       "2344   P0099042   49596.0\n",
       "2345   P0099242   64578.0\n",
       "2346   P0099342   56982.0\n",
       "2347   P0099442   45810.0\n",
       "2348   P0099742   12118.0\n",
       "\n",
       "[2349 rows x 2 columns]"
      ]
     },
     "execution_count": 85,
     "metadata": {},
     "output_type": "execute_result"
    }
   ],
   "source": [
    "# Plot data\n",
    "data_a_amount = df.groupby(['Product_ID'], as_index = False)['Amount'].sum()\n",
    "data_a_amount"
   ]
  },
  {
   "cell_type": "code",
   "execution_count": 86,
   "id": "7d1c56f5-b14d-419e-a761-38291c7dee40",
   "metadata": {},
   "outputs": [
    {
     "data": {
      "image/png": "[encoded data removed]",
      "text/plain": [
       "<Figure size 2000x800 with 2 Axes>"
      ]
     },
     "metadata": {},
     "output_type": "display_data"
    }
   ],
   "source": [
    "# Plots\n",
    "fig, ax = plt.subplots(1,2, figsize = (20,8))\n",
    "\n",
    "# Countplot\n",
    "sns.countplot( y='Product_ID',orient='h',data = df, ax = ax[0])\n",
    "ax[0].set_title('Order Count - Product-ID')\n",
    "\n",
    "# Barplot for purchase power\n",
    "sns.barplot(y = 'Product_ID', x = 'Amount', orient = 'h',\n",
    "            data = data_id_amount, ax = ax[1])\n",
    "ax[1].set_title('Purchase Power - Product_ID')\n",
    "\n",
    "plt.show()"
   ]
  },
  {
   "cell_type": "markdown",
   "id": "bfec0596-9b51-460d-b384-3699c20eddd4",
   "metadata": {},
   "source": [
    "### **Conclusion:**\n",
    "Nothing "
   ]
  },
  {
   "cell_type": "markdown",
   "id": "6c826de0-597c-4f46-96bf-bf78f8035480",
   "metadata": {},
   "source": [
    "### Occupation"
   ]
  },
  {
   "cell_type": "code",
   "execution_count": 87,
   "id": "298c3a77-204a-4e94-87b5-c6d3adb722d0",
   "metadata": {},
   "outputs": [
    {
     "data": {
      "text/html": [
       "<div>\n",
       "<style scoped>\n",
       "    .dataframe tbody tr th:only-of-type {\n",
       "        vertical-align: middle;\n",
       "    }\n",
       "\n",
       "    .dataframe tbody tr th {\n",
       "        vertical-align: top;\n",
       "    }\n",
       "\n",
       "    .dataframe thead th {\n",
       "        text-align: right;\n",
       "    }\n",
       "</style>\n",
       "<table border=\"1\" class=\"dataframe\">\n",
       "  <thead>\n",
       "    <tr style=\"text-align: right;\">\n",
       "      <th></th>\n",
       "      <th>Occupation</th>\n",
       "      <th>Amount</th>\n",
       "    </tr>\n",
       "  </thead>\n",
       "  <tbody>\n",
       "    <tr>\n",
       "      <th>0</th>\n",
       "      <td>Agriculture</td>\n",
       "      <td>2585074.00</td>\n",
       "    </tr>\n",
       "    <tr>\n",
       "      <th>1</th>\n",
       "      <td>Automobile</td>\n",
       "      <td>5362757.00</td>\n",
       "    </tr>\n",
       "    <tr>\n",
       "      <th>2</th>\n",
       "      <td>Aviation</td>\n",
       "      <td>12596751.00</td>\n",
       "    </tr>\n",
       "    <tr>\n",
       "      <th>3</th>\n",
       "      <td>Banking</td>\n",
       "      <td>10767299.45</td>\n",
       "    </tr>\n",
       "    <tr>\n",
       "      <th>4</th>\n",
       "      <td>Chemical</td>\n",
       "      <td>5297100.00</td>\n",
       "    </tr>\n",
       "    <tr>\n",
       "      <th>5</th>\n",
       "      <td>Construction</td>\n",
       "      <td>3544275.00</td>\n",
       "    </tr>\n",
       "    <tr>\n",
       "      <th>6</th>\n",
       "      <td>Food Processing</td>\n",
       "      <td>4043292.00</td>\n",
       "    </tr>\n",
       "    <tr>\n",
       "      <th>7</th>\n",
       "      <td>Govt</td>\n",
       "      <td>8425182.00</td>\n",
       "    </tr>\n",
       "    <tr>\n",
       "      <th>8</th>\n",
       "      <td>Healthcare</td>\n",
       "      <td>12989061.49</td>\n",
       "    </tr>\n",
       "    <tr>\n",
       "      <th>9</th>\n",
       "      <td>Hospitality</td>\n",
       "      <td>6402793.00</td>\n",
       "    </tr>\n",
       "    <tr>\n",
       "      <th>10</th>\n",
       "      <td>IT Sector</td>\n",
       "      <td>14902488.00</td>\n",
       "    </tr>\n",
       "    <tr>\n",
       "      <th>11</th>\n",
       "      <td>Lawyer</td>\n",
       "      <td>4977574.00</td>\n",
       "    </tr>\n",
       "    <tr>\n",
       "      <th>12</th>\n",
       "      <td>Media</td>\n",
       "      <td>6291535.00</td>\n",
       "    </tr>\n",
       "    <tr>\n",
       "      <th>13</th>\n",
       "      <td>Retail</td>\n",
       "      <td>4803148.00</td>\n",
       "    </tr>\n",
       "    <tr>\n",
       "      <th>14</th>\n",
       "      <td>Textile</td>\n",
       "      <td>3204028.00</td>\n",
       "    </tr>\n",
       "  </tbody>\n",
       "</table>\n",
       "</div>"
      ],
      "text/plain": [
       "         Occupation       Amount\n",
       "0       Agriculture   2585074.00\n",
       "1        Automobile   5362757.00\n",
       "2          Aviation  12596751.00\n",
       "3           Banking  10767299.45\n",
       "4          Chemical   5297100.00\n",
       "5      Construction   3544275.00\n",
       "6   Food Processing   4043292.00\n",
       "7              Govt   8425182.00\n",
       "8        Healthcare  12989061.49\n",
       "9       Hospitality   6402793.00\n",
       "10        IT Sector  14902488.00\n",
       "11           Lawyer   4977574.00\n",
       "12            Media   6291535.00\n",
       "13           Retail   4803148.00\n",
       "14          Textile   3204028.00"
      ]
     },
     "execution_count": 87,
     "metadata": {},
     "output_type": "execute_result"
    }
   ],
   "source": [
    "# Plot data\n",
    "data_oc_amount = df.groupby(['Occupation'], as_index = False)['Amount'].sum()\n",
    "data_oc_amount"
   ]
  },
  {
   "cell_type": "code",
   "execution_count": 88,
   "id": "f6935296-3dbc-43bf-994e-c33f4d3a55f7",
   "metadata": {},
   "outputs": [
    {
     "data": {
      "image/png": "[encoded data removed]",
      "text/plain": [
       "<Figure size 2000x800 with 2 Axes>"
      ]
     },
     "metadata": {},
     "output_type": "display_data"
    }
   ],
   "source": [
    "# Plots\n",
    "fig, ax = plt.subplots(1,2, figsize = (20,8))\n",
    "\n",
    "# Countplot\n",
    "sns.countplot( y='Occupation',orient='h',data = df, ax = ax[0])\n",
    "ax[0].set_title('Order Count - Occupation')\n",
    "\n",
    "# Barplot for purchase power\n",
    "sns.barplot(y = 'Occupation', x = 'Amount', orient = 'h',\n",
    "            data = data_oc_amount, ax = ax[1])\n",
    "ax[1].set_title('Purchase Power - Occupation')\n",
    "\n",
    "plt.show()"
   ]
  },
  {
   "cell_type": "markdown",
   "id": "c65abc3a-98c3-4653-b13b-99a1c1535c02",
   "metadata": {},
   "source": [
    "### **Conclusion:**\n",
    "IT sector Placed more order"
   ]
  },
  {
   "cell_type": "markdown",
   "id": "e0cc6e73-db10-4090-a796-fcaa0ac0995e",
   "metadata": {},
   "source": [
    "### **Observation**"
   ]
  },
  {
   "cell_type": "markdown",
   "id": "623506d8-a1fb-471d-931c-650060fc25f0",
   "metadata": {},
   "source": [
    "#### From Columns:\n",
    "- Female Placed More order\n",
    "- Unmarried Placed more order\n",
    "- 26-35 age group placed more order\n",
    "- Cothing and Apparel more sell\n",
    "- Product_ID \n",
    "- Uttar Pradesh Placed more order\n",
    "- IT Sector Placed more order"
   ]
  }
 ],
 "metadata": {
  "kernelspec": {
   "display_name": "Python 3 (ipykernel)",
   "language": "python",
   "name": "python3"
  },
  "language_info": {
   "codemirror_mode": {
    "name": "ipython",
    "version": 3
   },
   "file_extension": ".py",
   "mimetype": "text/x-python",
   "name": "python",
   "nbconvert_exporter": "python",
   "pygments_lexer": "ipython3",
   "version": "3.11.7"
  }
 },
 "nbformat": 4,
 "nbformat_minor": 5
}
